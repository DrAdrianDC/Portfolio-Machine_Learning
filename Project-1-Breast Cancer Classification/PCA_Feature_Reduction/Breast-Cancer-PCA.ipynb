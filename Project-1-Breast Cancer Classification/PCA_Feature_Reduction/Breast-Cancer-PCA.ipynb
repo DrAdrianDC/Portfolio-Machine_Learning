{
 "cells": [
  {
   "cell_type": "markdown",
   "metadata": {},
   "source": [
    "## Project: Breast Cancer Classification "
   ]
  },
  {
   "cell_type": "markdown",
   "metadata": {},
   "source": [
    "#### Cancer remains one of the most significant health challenges worldwide. Early and accurate detection is crucial for effective treatment and improved patient outcomes. "
   ]
  },
  {
   "cell_type": "markdown",
   "metadata": {},
   "source": [
    "### Dataset"
   ]
  },
  {
   "cell_type": "markdown",
   "metadata": {},
   "source": [
    "#### The dataset used in this project is the Breast Cancer Wisconsin (Diagnostic) dataset, available in the sklearn.datasets module."
   ]
  },
  {
   "cell_type": "code",
   "execution_count": null,
   "metadata": {},
   "outputs": [],
   "source": []
  },
  {
   "cell_type": "markdown",
   "metadata": {},
   "source": [
    "## Principal Component Analysis (PCA)\n",
    "### This process is commonly used in machine learning pipelines to reduce the computational complexity of models and to identify the most significant features in the data."
   ]
  },
  {
   "cell_type": "code",
   "execution_count": null,
   "metadata": {},
   "outputs": [],
   "source": []
  },
  {
   "cell_type": "code",
   "execution_count": 1,
   "metadata": {},
   "outputs": [],
   "source": [
    "#### Import Libraries\n",
    "\n",
    "import numpy as np\n",
    "import pandas as pd\n",
    "from sklearn.datasets import load_breast_cancer\n",
    "from sklearn.preprocessing import StandardScaler\n",
    "import matplotlib.pyplot as plt\n",
    "\n",
    "from sklearn.decomposition import PCA\n"
   ]
  },
  {
   "cell_type": "code",
   "execution_count": null,
   "metadata": {},
   "outputs": [],
   "source": []
  },
  {
   "cell_type": "code",
   "execution_count": 2,
   "metadata": {},
   "outputs": [
    {
     "name": "stdout",
     "output_type": "stream",
     "text": [
      "   mean radius  mean texture  mean perimeter  mean area  mean smoothness  \\\n",
      "0        17.99         10.38          122.80     1001.0          0.11840   \n",
      "1        20.57         17.77          132.90     1326.0          0.08474   \n",
      "2        19.69         21.25          130.00     1203.0          0.10960   \n",
      "3        11.42         20.38           77.58      386.1          0.14250   \n",
      "4        20.29         14.34          135.10     1297.0          0.10030   \n",
      "\n",
      "   mean compactness  mean concavity  mean concave points  mean symmetry  \\\n",
      "0           0.27760          0.3001              0.14710         0.2419   \n",
      "1           0.07864          0.0869              0.07017         0.1812   \n",
      "2           0.15990          0.1974              0.12790         0.2069   \n",
      "3           0.28390          0.2414              0.10520         0.2597   \n",
      "4           0.13280          0.1980              0.10430         0.1809   \n",
      "\n",
      "   mean fractal dimension  ...  worst texture  worst perimeter  worst area  \\\n",
      "0                 0.07871  ...          17.33           184.60      2019.0   \n",
      "1                 0.05667  ...          23.41           158.80      1956.0   \n",
      "2                 0.05999  ...          25.53           152.50      1709.0   \n",
      "3                 0.09744  ...          26.50            98.87       567.7   \n",
      "4                 0.05883  ...          16.67           152.20      1575.0   \n",
      "\n",
      "   worst smoothness  worst compactness  worst concavity  worst concave points  \\\n",
      "0            0.1622             0.6656           0.7119                0.2654   \n",
      "1            0.1238             0.1866           0.2416                0.1860   \n",
      "2            0.1444             0.4245           0.4504                0.2430   \n",
      "3            0.2098             0.8663           0.6869                0.2575   \n",
      "4            0.1374             0.2050           0.4000                0.1625   \n",
      "\n",
      "   worst symmetry  worst fractal dimension  target  \n",
      "0          0.4601                  0.11890       0  \n",
      "1          0.2750                  0.08902       0  \n",
      "2          0.3613                  0.08758       0  \n",
      "3          0.6638                  0.17300       0  \n",
      "4          0.2364                  0.07678       0  \n",
      "\n",
      "[5 rows x 31 columns]\n"
     ]
    }
   ],
   "source": [
    "#### Load and Explore Data\n",
    "\n",
    "# Load the dataset\n",
    "\n",
    "data = load_breast_cancer()\n",
    "df = pd.DataFrame(data.data, columns=data.feature_names)\n",
    "df['target'] = data.target\n",
    "\n",
    "#df = pd.read_csv('data.csv')\n",
    "\n",
    "\n",
    "# Display the first few rows of the dataset\n",
    "print(df.head())\n"
   ]
  },
  {
   "cell_type": "code",
   "execution_count": null,
   "metadata": {},
   "outputs": [],
   "source": []
  },
  {
   "cell_type": "code",
   "execution_count": 3,
   "metadata": {},
   "outputs": [],
   "source": [
    "\n",
    "# Split data into features and target\n",
    "X = df.drop(columns='target')\n",
    "y = df['target']\n"
   ]
  },
  {
   "cell_type": "code",
   "execution_count": null,
   "metadata": {},
   "outputs": [],
   "source": []
  },
  {
   "cell_type": "markdown",
   "metadata": {},
   "source": [
    "### PCA and Explained Variance: Perform PCA and plot the explained variance ratio for each principal component."
   ]
  },
  {
   "cell_type": "code",
   "execution_count": 4,
   "metadata": {},
   "outputs": [],
   "source": [
    "\n",
    "# Assuming df is your DataFrame with the features\n",
    "X = df.iloc[:, :-1].values  # Excluding the target variable\n",
    "\n",
    "# Standardizing the data\n",
    "from sklearn.preprocessing import StandardScaler\n",
    "scaler = StandardScaler()\n",
    "X_scaled = scaler.fit_transform(X)\n",
    "\n",
    "# Performing PCA\n",
    "pca = PCA(n_components=min(X.shape))\n",
    "X_pca = pca.fit_transform(X_scaled)\n",
    "\n"
   ]
  },
  {
   "cell_type": "code",
   "execution_count": null,
   "metadata": {},
   "outputs": [],
   "source": []
  },
  {
   "cell_type": "code",
   "execution_count": 5,
   "metadata": {},
   "outputs": [
    {
     "data": {
      "image/png": "[encoded data removed]",
      "text/plain": [
       "<Figure size 720x432 with 1 Axes>"
      ]
     },
     "metadata": {
      "needs_background": "light"
     },
     "output_type": "display_data"
    }
   ],
   "source": [
    "# Plotting the explained variance ratio\n",
    "plt.figure(figsize=(10, 6))\n",
    "plt.plot(range(1, len(pca.explained_variance_ratio_) + 1), pca.explained_variance_ratio_, marker='o', linestyle='--')\n",
    "plt.xlabel('Principal Component')\n",
    "plt.ylabel('Explained Variance Ratio')\n",
    "plt.title('Explained Variance Ratio of Principal Components')\n",
    "plt.show()\n"
   ]
  },
  {
   "cell_type": "markdown",
   "metadata": {},
   "source": [
    "#### The plot of explained variance ratio versus the number of principal components usually shows a decreasing curve. Each point on this curve represents the percentage of variance explained by including that many principal components."
   ]
  },
  {
   "cell_type": "markdown",
   "metadata": {},
   "source": [
    "#### Identifying the Elbow: On the PCA explained variance ratio plot, as you move along the x-axis (number of principal components), the y-axis (explained variance ratio) initially decreases sharply and then may start to level off. The point where this leveling off begins can be considered as the \"elbow\" where the addition of more principal components results in diminishing returns in terms of explaining additional variance in the data."
   ]
  },
  {
   "cell_type": "code",
   "execution_count": null,
   "metadata": {},
   "outputs": [],
   "source": []
  },
  {
   "cell_type": "markdown",
   "metadata": {},
   "source": [
    "### Cumulative Explained Variance: Plot the cumulative explained variance to see how much total variance is explained as more components are added."
   ]
  },
  {
   "cell_type": "code",
   "execution_count": 6,
   "metadata": {},
   "outputs": [
    {
     "data": {
      "image/png": "[encoded data removed]",
      "text/plain": [
       "<Figure size 720x432 with 1 Axes>"
      ]
     },
     "metadata": {
      "needs_background": "light"
     },
     "output_type": "display_data"
    }
   ],
   "source": [
    "# Plotting cumulative explained variance\n",
    "plt.figure(figsize=(10, 6))\n",
    "plt.plot(np.cumsum(pca.explained_variance_ratio_), marker='o', linestyle='--')\n",
    "plt.xlabel('Number of Principal Components')\n",
    "plt.ylabel('Cumulative Explained Variance')\n",
    "plt.title('Cumulative Explained Variance by Principal Components')\n",
    "plt.axhline(y=0.90, color='r', linestyle='-')  # Highlighting the 90% variance line\n",
    "plt.show()"
   ]
  },
  {
   "cell_type": "code",
   "execution_count": null,
   "metadata": {},
   "outputs": [],
   "source": []
  },
  {
   "cell_type": "markdown",
   "metadata": {},
   "source": [
    "#### Evaluation of Dimensionality Reduction: The plot of cumulative explained variance helps in deciding how many principal components to retain. It shows the cumulative amount of variance explained by the principal components as you increase their number.\n",
    "#### Decision Making: By observing where the curve levels off or reaches a desired threshold (e.g., 90% variance explained), you can decide on the optimal number of principal components to retain for your analysis or modeling tasks."
   ]
  },
  {
   "cell_type": "code",
   "execution_count": null,
   "metadata": {},
   "outputs": [],
   "source": []
  },
  {
   "cell_type": "markdown",
   "metadata": {},
   "source": [
    "## Determining the Optimal Number of Components:\n",
    "### This line calculates the optimal number of components based on where the cumulative explained variance reaches a desired threshold (e.g., 90%)."
   ]
  },
  {
   "cell_type": "code",
   "execution_count": 7,
   "metadata": {},
   "outputs": [
    {
     "name": "stdout",
     "output_type": "stream",
     "text": [
      "Optimal number of components: 7\n"
     ]
    }
   ],
   "source": [
    "# Determining the optimal number of components based on the elbow method\n",
    "explained_variance = np.cumsum(pca.explained_variance_ratio_)\n",
    "optimal_components = np.argmax(explained_variance >= 0.90) + 1  # 90% threshold\n",
    "\n",
    "print(f'Optimal number of components: {optimal_components}')"
   ]
  },
  {
   "cell_type": "code",
   "execution_count": null,
   "metadata": {},
   "outputs": [],
   "source": []
  },
  {
   "cell_type": "markdown",
   "metadata": {},
   "source": [
    "## Feature Reduction\n",
    "\n",
    "### Once you have identified the optimal number of principal components, you can transform your dataset using these components:"
   ]
  },
  {
   "cell_type": "code",
   "execution_count": null,
   "metadata": {},
   "outputs": [],
   "source": []
  },
  {
   "cell_type": "code",
   "execution_count": 8,
   "metadata": {},
   "outputs": [
    {
     "name": "stdout",
     "output_type": "stream",
     "text": [
      "                              PC1       PC2       PC3       PC4       PC5  \\\n",
      "mean radius              0.798469 -0.558394 -0.014334  0.058328  0.048561   \n",
      "mean texture             0.378346 -0.142564  0.108454 -0.849451 -0.063575   \n",
      "mean perimeter           0.829965 -0.513800 -0.015649  0.059137  0.048032   \n",
      "mean area                0.806101 -0.551755  0.048220  0.075266  0.013277   \n",
      "mean smoothness          0.520110  0.444392 -0.175226  0.224505 -0.469197   \n",
      "mean compactness         0.872817  0.362680 -0.124485  0.044786  0.015041   \n",
      "mean concavity           0.942542  0.143660  0.004593  0.026936  0.111006   \n",
      "mean concave points      0.951490 -0.083016 -0.042951  0.092032 -0.056368   \n",
      "mean symmetry            0.503978  0.454506 -0.067609  0.094552 -0.393183   \n",
      "mean fractal dimension   0.234772  0.875292 -0.037928  0.068439 -0.057092   \n",
      "radius error             0.751328 -0.252033  0.451089  0.137959 -0.198501   \n",
      "texture error            0.063570  0.214849  0.629441 -0.506889 -0.246301   \n",
      "perimeter error          0.770833 -0.213602  0.448005  0.125354 -0.155492   \n",
      "area error               0.739987 -0.363638  0.362924  0.152417 -0.163953   \n",
      "smoothness error         0.053005  0.488130  0.518896  0.062914 -0.298241   \n",
      "compactness error        0.621527  0.555669  0.260053 -0.038693  0.359804   \n",
      "concavity error          0.560234  0.470883  0.296486  0.001855  0.454923   \n",
      "concave points error     0.669033  0.311176  0.377459  0.104331  0.251310   \n",
      "symmetry error           0.155017  0.438984  0.484865  0.062081 -0.324977   \n",
      "fractal dimension error  0.374128  0.668791  0.355358  0.021558  0.338379   \n",
      "worst radius             0.831641 -0.524987 -0.079819  0.021717 -0.005663   \n",
      "worst texture            0.381062 -0.108565 -0.071067 -0.891367 -0.119370   \n",
      "worst perimeter          0.863167 -0.477261 -0.081566  0.019442  0.009580   \n",
      "worst area               0.820238 -0.523759 -0.019998  0.036475 -0.035202   \n",
      "worst smoothness         0.466720  0.411421 -0.436499  0.024865 -0.416951   \n",
      "worst compactness        0.766346  0.342865 -0.396643 -0.128644  0.156538   \n",
      "worst concavity          0.834453  0.233914 -0.290763 -0.104167  0.242277   \n",
      "worst concave points     0.915132 -0.019716 -0.286204  0.008461  0.055689   \n",
      "worst symmetry           0.448307  0.338783 -0.455846 -0.051062 -0.314297   \n",
      "worst fractal dimension  0.480695  0.657443 -0.391125 -0.108537  0.121349   \n",
      "\n",
      "                              PC6       PC7  \n",
      "mean radius              0.020611 -0.102058  \n",
      "mean texture            -0.035389  0.009375  \n",
      "mean perimeter           0.019035 -0.094153  \n",
      "mean area               -0.002076 -0.042483  \n",
      "mean smoothness         -0.314944 -0.115692  \n",
      "mean compactness        -0.015541  0.025428  \n",
      "mean concavity          -0.010276 -0.088429  \n",
      "mean concave points     -0.057243 -0.123761  \n",
      "mean symmetry            0.392020 -0.077220  \n",
      "mean fractal dimension  -0.131346  0.243246  \n",
      "radius error            -0.028157  0.257004  \n",
      "texture error           -0.031615 -0.074641  \n",
      "perimeter error          0.001992  0.258771  \n",
      "area error              -0.047140  0.285125  \n",
      "smoothness error        -0.377128 -0.200696  \n",
      "compactness error        0.076101  0.019299  \n",
      "concavity error          0.061964 -0.171746  \n",
      "concave points error    -0.034339 -0.304012  \n",
      "symmetry error           0.539155 -0.066109  \n",
      "fractal dimension error -0.058502  0.157411  \n",
      "worst radius            -0.000320 -0.007985  \n",
      "worst texture           -0.054997  0.008119  \n",
      "worst perimeter          0.009349 -0.000366  \n",
      "worst area              -0.027675  0.055791  \n",
      "worst smoothness        -0.406094 -0.089507  \n",
      "worst compactness        0.052465  0.115530  \n",
      "worst concavity          0.031211 -0.049748  \n",
      "worst concave points    -0.033954 -0.138141  \n",
      "worst symmetry           0.548702 -0.015208  \n",
      "worst fractal dimension -0.088227  0.308132  \n"
     ]
    }
   ],
   "source": [
    "# Performing PCA again with the optimal number of components\n",
    "pca_optimal = PCA(n_components=optimal_components)\n",
    "X_pca_optimal = pca_optimal.fit_transform(X_scaled)\n",
    "\n",
    "# Identifying the most significant features for each principal component\n",
    "loadings = pca_optimal.components_.T * np.sqrt(pca_optimal.explained_variance_)\n",
    "feature_importance = pd.DataFrame(loadings, index=data.feature_names, columns=[f'PC{i+1}' for i in range(optimal_components)])\n",
    "print(feature_importance)\n",
    "\n",
    "# Selecting the most important features for each principal component\n",
    "important_features = []\n",
    "for i in range(optimal_components):\n",
    "    most_important = feature_importance.iloc[:, i].abs().nlargest(1).index[0]\n",
    "    important_features.append(most_important)\n",
    "\n"
   ]
  },
  {
   "cell_type": "code",
   "execution_count": 9,
   "metadata": {},
   "outputs": [
    {
     "name": "stdout",
     "output_type": "stream",
     "text": [
      "   mean concave points  mean fractal dimension  texture error  worst texture  \\\n",
      "0              0.14710                 0.07871         0.9053          17.33   \n",
      "1              0.07017                 0.05667         0.7339          23.41   \n",
      "2              0.12790                 0.05999         0.7869          25.53   \n",
      "3              0.10520                 0.09744         1.1560          26.50   \n",
      "4              0.10430                 0.05883         0.7813          16.67   \n",
      "\n",
      "   mean smoothness  worst symmetry  worst fractal dimension  target  \n",
      "0          0.11840          0.4601                  0.11890       0  \n",
      "1          0.08474          0.2750                  0.08902       0  \n",
      "2          0.10960          0.3613                  0.08758       0  \n",
      "3          0.14250          0.6638                  0.17300       0  \n",
      "4          0.10030          0.2364                  0.07678       0  \n"
     ]
    }
   ],
   "source": [
    "# Creating a new dataset with the selected important features\n",
    "df_important_features = df[important_features + ['target']]\n",
    "\n",
    "# Display the first few rows of the new dataset\n",
    "print(df_important_features.head())"
   ]
  },
  {
   "cell_type": "code",
   "execution_count": null,
   "metadata": {},
   "outputs": [],
   "source": []
  },
  {
   "cell_type": "code",
   "execution_count": 10,
   "metadata": {},
   "outputs": [],
   "source": [
    "# Save the new dataset to a CSV file\n",
    "df_important_features.to_csv('important_features_dataset.csv', index=False)"
   ]
  },
  {
   "cell_type": "code",
   "execution_count": null,
   "metadata": {},
   "outputs": [],
   "source": []
  },
  {
   "cell_type": "code",
   "execution_count": null,
   "metadata": {},
   "outputs": [],
   "source": []
  }
 ],
 "metadata": {
  "kernelspec": {
   "display_name": "Python 3",
   "language": "python",
   "name": "python3"
  },
  "language_info": {
   "codemirror_mode": {
    "name": "ipython",
    "version": 3
   },
   "file_extension": ".py",
   "mimetype": "text/x-python",
   "name": "python",
   "nbconvert_exporter": "python",
   "pygments_lexer": "ipython3",
   "version": "3.8.3"
  }
 },
 "nbformat": 4,
 "nbformat_minor": 4
}
