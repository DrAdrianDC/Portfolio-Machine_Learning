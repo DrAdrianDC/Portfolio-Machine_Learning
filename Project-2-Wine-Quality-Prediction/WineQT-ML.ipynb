{
 "cells": [
  {
   "cell_type": "markdown",
   "metadata": {},
   "source": [
    "# Wine Quality Prediction Project using Machine Learning with Python"
   ]
  },
  {
   "cell_type": "markdown",
   "metadata": {},
   "source": [
    "#### By using machine learning for wine quality prediction enhances operational efficiency, provides objective information to consumers, and supports decision-making in the wine industry. In this project I am using the wine quality dataset available on Kaggle for free.\n",
    "\n",
    "#### https://www.kaggle.com/datasets/yasserh/wine-quality-dataset?resource=download&select=WineQT.csv"
   ]
  },
  {
   "cell_type": "markdown",
   "metadata": {},
   "source": [
    "\n",
    "## Objective\n",
    "\n",
    "#### Predict whether a wine is of good or bad quality based on factors such as chemical composition and other relevant attributes."
   ]
  },
  {
   "cell_type": "markdown",
   "metadata": {},
   "source": [
    "#### The main idea is initially perform an Exploratory Data Analysis for an understanding of the dataset. And finally analyze and predict wine quality by applying machine learning algorithms (classification models). Compare the evaluation metrics of some classification algorithms"
   ]
  },
  {
   "cell_type": "code",
   "execution_count": null,
   "metadata": {},
   "outputs": [],
   "source": []
  },
  {
   "cell_type": "code",
   "execution_count": 1,
   "metadata": {},
   "outputs": [],
   "source": [
    "import numpy as np\n",
    "import pandas as pd\n",
    "import matplotlib.pyplot as plt\n",
    "import seaborn as sb"
   ]
  },
  {
   "cell_type": "code",
   "execution_count": null,
   "metadata": {},
   "outputs": [],
   "source": []
  },
  {
   "cell_type": "code",
   "execution_count": 2,
   "metadata": {},
   "outputs": [
    {
     "name": "stdout",
     "output_type": "stream",
     "text": [
      "   fixed acidity  volatile acidity  citric acid  residual sugar  chlorides  \\\n",
      "0            7.4              0.70         0.00             1.9      0.076   \n",
      "1            7.8              0.88         0.00             2.6      0.098   \n",
      "2            7.8              0.76         0.04             2.3      0.092   \n",
      "3           11.2              0.28         0.56             1.9      0.075   \n",
      "4            7.4              0.70         0.00             1.9      0.076   \n",
      "\n",
      "   free sulfur dioxide  total sulfur dioxide  density    pH  sulphates  \\\n",
      "0                 11.0                  34.0   0.9978  3.51       0.56   \n",
      "1                 25.0                  67.0   0.9968  3.20       0.68   \n",
      "2                 15.0                  54.0   0.9970  3.26       0.65   \n",
      "3                 17.0                  60.0   0.9980  3.16       0.58   \n",
      "4                 11.0                  34.0   0.9978  3.51       0.56   \n",
      "\n",
      "   alcohol  quality  Id  \n",
      "0      9.4        5   0  \n",
      "1      9.8        5   1  \n",
      "2      9.8        5   2  \n",
      "3      9.8        6   3  \n",
      "4      9.4        5   4  \n"
     ]
    }
   ],
   "source": [
    "df = pd.read_csv('WineQT.csv')\n",
    "print(df.head())"
   ]
  },
  {
   "cell_type": "code",
   "execution_count": 3,
   "metadata": {},
   "outputs": [
    {
     "name": "stdout",
     "output_type": "stream",
     "text": [
      "<class 'pandas.core.frame.DataFrame'>\n",
      "RangeIndex: 1143 entries, 0 to 1142\n",
      "Data columns (total 13 columns):\n",
      " #   Column                Non-Null Count  Dtype  \n",
      "---  ------                --------------  -----  \n",
      " 0   fixed acidity         1143 non-null   float64\n",
      " 1   volatile acidity      1143 non-null   float64\n",
      " 2   citric acid           1143 non-null   float64\n",
      " 3   residual sugar        1143 non-null   float64\n",
      " 4   chlorides             1143 non-null   float64\n",
      " 5   free sulfur dioxide   1143 non-null   float64\n",
      " 6   total sulfur dioxide  1143 non-null   float64\n",
      " 7   density               1143 non-null   float64\n",
      " 8   pH                    1143 non-null   float64\n",
      " 9   sulphates             1143 non-null   float64\n",
      " 10  alcohol               1143 non-null   float64\n",
      " 11  quality               1143 non-null   int64  \n",
      " 12  Id                    1143 non-null   int64  \n",
      "dtypes: float64(11), int64(2)\n",
      "memory usage: 116.2 KB\n"
     ]
    }
   ],
   "source": [
    "# type of data present in each of the columns present in the dataset.\n",
    "\n",
    "df.info()"
   ]
  },
  {
   "cell_type": "markdown",
   "metadata": {},
   "source": [
    "\n",
    "#### Dataset consists of 1143 rows and 13 columns. Data type of almost variable are float"
   ]
  },
  {
   "cell_type": "code",
   "execution_count": 4,
   "metadata": {},
   "outputs": [
    {
     "data": {
      "text/html": [
       "<div>\n",
       "<style scoped>\n",
       "    .dataframe tbody tr th:only-of-type {\n",
       "        vertical-align: middle;\n",
       "    }\n",
       "\n",
       "    .dataframe tbody tr th {\n",
       "        vertical-align: top;\n",
       "    }\n",
       "\n",
       "    .dataframe thead th {\n",
       "        text-align: right;\n",
       "    }\n",
       "</style>\n",
       "<table border=\"1\" class=\"dataframe\">\n",
       "  <thead>\n",
       "    <tr style=\"text-align: right;\">\n",
       "      <th></th>\n",
       "      <th>count</th>\n",
       "      <th>mean</th>\n",
       "      <th>std</th>\n",
       "      <th>min</th>\n",
       "      <th>25%</th>\n",
       "      <th>50%</th>\n",
       "      <th>75%</th>\n",
       "      <th>max</th>\n",
       "    </tr>\n",
       "  </thead>\n",
       "  <tbody>\n",
       "    <tr>\n",
       "      <th>fixed acidity</th>\n",
       "      <td>1143.0</td>\n",
       "      <td>8.311111</td>\n",
       "      <td>1.747595</td>\n",
       "      <td>4.60000</td>\n",
       "      <td>7.10000</td>\n",
       "      <td>7.90000</td>\n",
       "      <td>9.100000</td>\n",
       "      <td>15.90000</td>\n",
       "    </tr>\n",
       "    <tr>\n",
       "      <th>volatile acidity</th>\n",
       "      <td>1143.0</td>\n",
       "      <td>0.531339</td>\n",
       "      <td>0.179633</td>\n",
       "      <td>0.12000</td>\n",
       "      <td>0.39250</td>\n",
       "      <td>0.52000</td>\n",
       "      <td>0.640000</td>\n",
       "      <td>1.58000</td>\n",
       "    </tr>\n",
       "    <tr>\n",
       "      <th>citric acid</th>\n",
       "      <td>1143.0</td>\n",
       "      <td>0.268364</td>\n",
       "      <td>0.196686</td>\n",
       "      <td>0.00000</td>\n",
       "      <td>0.09000</td>\n",
       "      <td>0.25000</td>\n",
       "      <td>0.420000</td>\n",
       "      <td>1.00000</td>\n",
       "    </tr>\n",
       "    <tr>\n",
       "      <th>residual sugar</th>\n",
       "      <td>1143.0</td>\n",
       "      <td>2.532152</td>\n",
       "      <td>1.355917</td>\n",
       "      <td>0.90000</td>\n",
       "      <td>1.90000</td>\n",
       "      <td>2.20000</td>\n",
       "      <td>2.600000</td>\n",
       "      <td>15.50000</td>\n",
       "    </tr>\n",
       "    <tr>\n",
       "      <th>chlorides</th>\n",
       "      <td>1143.0</td>\n",
       "      <td>0.086933</td>\n",
       "      <td>0.047267</td>\n",
       "      <td>0.01200</td>\n",
       "      <td>0.07000</td>\n",
       "      <td>0.07900</td>\n",
       "      <td>0.090000</td>\n",
       "      <td>0.61100</td>\n",
       "    </tr>\n",
       "    <tr>\n",
       "      <th>free sulfur dioxide</th>\n",
       "      <td>1143.0</td>\n",
       "      <td>15.615486</td>\n",
       "      <td>10.250486</td>\n",
       "      <td>1.00000</td>\n",
       "      <td>7.00000</td>\n",
       "      <td>13.00000</td>\n",
       "      <td>21.000000</td>\n",
       "      <td>68.00000</td>\n",
       "    </tr>\n",
       "    <tr>\n",
       "      <th>total sulfur dioxide</th>\n",
       "      <td>1143.0</td>\n",
       "      <td>45.914698</td>\n",
       "      <td>32.782130</td>\n",
       "      <td>6.00000</td>\n",
       "      <td>21.00000</td>\n",
       "      <td>37.00000</td>\n",
       "      <td>61.000000</td>\n",
       "      <td>289.00000</td>\n",
       "    </tr>\n",
       "    <tr>\n",
       "      <th>density</th>\n",
       "      <td>1143.0</td>\n",
       "      <td>0.996730</td>\n",
       "      <td>0.001925</td>\n",
       "      <td>0.99007</td>\n",
       "      <td>0.99557</td>\n",
       "      <td>0.99668</td>\n",
       "      <td>0.997845</td>\n",
       "      <td>1.00369</td>\n",
       "    </tr>\n",
       "    <tr>\n",
       "      <th>pH</th>\n",
       "      <td>1143.0</td>\n",
       "      <td>3.311015</td>\n",
       "      <td>0.156664</td>\n",
       "      <td>2.74000</td>\n",
       "      <td>3.20500</td>\n",
       "      <td>3.31000</td>\n",
       "      <td>3.400000</td>\n",
       "      <td>4.01000</td>\n",
       "    </tr>\n",
       "    <tr>\n",
       "      <th>sulphates</th>\n",
       "      <td>1143.0</td>\n",
       "      <td>0.657708</td>\n",
       "      <td>0.170399</td>\n",
       "      <td>0.33000</td>\n",
       "      <td>0.55000</td>\n",
       "      <td>0.62000</td>\n",
       "      <td>0.730000</td>\n",
       "      <td>2.00000</td>\n",
       "    </tr>\n",
       "    <tr>\n",
       "      <th>alcohol</th>\n",
       "      <td>1143.0</td>\n",
       "      <td>10.442111</td>\n",
       "      <td>1.082196</td>\n",
       "      <td>8.40000</td>\n",
       "      <td>9.50000</td>\n",
       "      <td>10.20000</td>\n",
       "      <td>11.100000</td>\n",
       "      <td>14.90000</td>\n",
       "    </tr>\n",
       "    <tr>\n",
       "      <th>quality</th>\n",
       "      <td>1143.0</td>\n",
       "      <td>5.657043</td>\n",
       "      <td>0.805824</td>\n",
       "      <td>3.00000</td>\n",
       "      <td>5.00000</td>\n",
       "      <td>6.00000</td>\n",
       "      <td>6.000000</td>\n",
       "      <td>8.00000</td>\n",
       "    </tr>\n",
       "    <tr>\n",
       "      <th>Id</th>\n",
       "      <td>1143.0</td>\n",
       "      <td>804.969379</td>\n",
       "      <td>463.997116</td>\n",
       "      <td>0.00000</td>\n",
       "      <td>411.00000</td>\n",
       "      <td>794.00000</td>\n",
       "      <td>1209.500000</td>\n",
       "      <td>1597.00000</td>\n",
       "    </tr>\n",
       "  </tbody>\n",
       "</table>\n",
       "</div>"
      ],
      "text/plain": [
       "                       count        mean         std      min        25%  \\\n",
       "fixed acidity         1143.0    8.311111    1.747595  4.60000    7.10000   \n",
       "volatile acidity      1143.0    0.531339    0.179633  0.12000    0.39250   \n",
       "citric acid           1143.0    0.268364    0.196686  0.00000    0.09000   \n",
       "residual sugar        1143.0    2.532152    1.355917  0.90000    1.90000   \n",
       "chlorides             1143.0    0.086933    0.047267  0.01200    0.07000   \n",
       "free sulfur dioxide   1143.0   15.615486   10.250486  1.00000    7.00000   \n",
       "total sulfur dioxide  1143.0   45.914698   32.782130  6.00000   21.00000   \n",
       "density               1143.0    0.996730    0.001925  0.99007    0.99557   \n",
       "pH                    1143.0    3.311015    0.156664  2.74000    3.20500   \n",
       "sulphates             1143.0    0.657708    0.170399  0.33000    0.55000   \n",
       "alcohol               1143.0   10.442111    1.082196  8.40000    9.50000   \n",
       "quality               1143.0    5.657043    0.805824  3.00000    5.00000   \n",
       "Id                    1143.0  804.969379  463.997116  0.00000  411.00000   \n",
       "\n",
       "                            50%          75%         max  \n",
       "fixed acidity           7.90000     9.100000    15.90000  \n",
       "volatile acidity        0.52000     0.640000     1.58000  \n",
       "citric acid             0.25000     0.420000     1.00000  \n",
       "residual sugar          2.20000     2.600000    15.50000  \n",
       "chlorides               0.07900     0.090000     0.61100  \n",
       "free sulfur dioxide    13.00000    21.000000    68.00000  \n",
       "total sulfur dioxide   37.00000    61.000000   289.00000  \n",
       "density                 0.99668     0.997845     1.00369  \n",
       "pH                      3.31000     3.400000     4.01000  \n",
       "sulphates               0.62000     0.730000     2.00000  \n",
       "alcohol                10.20000    11.100000    14.90000  \n",
       "quality                 6.00000     6.000000     8.00000  \n",
       "Id                    794.00000  1209.500000  1597.00000  "
      ]
     },
     "execution_count": 4,
     "metadata": {},
     "output_type": "execute_result"
    }
   ],
   "source": [
    "#descriptive statistical measures of the dataset.\n",
    "\n",
    "df.describe().T"
   ]
  },
  {
   "cell_type": "markdown",
   "metadata": {},
   "source": [
    "# Exploratory Data Analysis"
   ]
  },
  {
   "cell_type": "code",
   "execution_count": null,
   "metadata": {},
   "outputs": [],
   "source": []
  },
  {
   "cell_type": "code",
   "execution_count": 5,
   "metadata": {},
   "outputs": [
    {
     "data": {
      "text/plain": [
       "fixed acidity           0\n",
       "volatile acidity        0\n",
       "citric acid             0\n",
       "residual sugar          0\n",
       "chlorides               0\n",
       "free sulfur dioxide     0\n",
       "total sulfur dioxide    0\n",
       "density                 0\n",
       "pH                      0\n",
       "sulphates               0\n",
       "alcohol                 0\n",
       "quality                 0\n",
       "Id                      0\n",
       "dtype: int64"
      ]
     },
     "execution_count": 5,
     "metadata": {},
     "output_type": "execute_result"
    }
   ],
   "source": [
    "df.isnull().sum()"
   ]
  },
  {
   "cell_type": "markdown",
   "metadata": {},
   "source": [
    "#### It looks like there are no missing value. It means dataset can be processed."
   ]
  },
  {
   "cell_type": "code",
   "execution_count": 6,
   "metadata": {},
   "outputs": [
    {
     "data": {
      "text/plain": [
       "0"
      ]
     },
     "execution_count": 6,
     "metadata": {},
     "output_type": "execute_result"
    }
   ],
   "source": [
    "# Let’s impute the missing values by means as the data present in the different columns are continuous values.\n",
    "\n",
    "\n",
    "for col in df.columns:\n",
    "  if df[col].isnull().sum() > 0:\n",
    "      df[col] = df[col].fillna(df[col].mean())\n",
    "\n",
    "df.isnull().sum().sum()\n",
    "\n"
   ]
  },
  {
   "cell_type": "code",
   "execution_count": 7,
   "metadata": {},
   "outputs": [
    {
     "data": {
      "image/png": "[encoded data removed]",
      "text/plain": [
       "<Figure size 720x720 with 16 Axes>"
      ]
     },
     "metadata": {
      "needs_background": "light"
     },
     "output_type": "display_data"
    }
   ],
   "source": [
    "# Plotting histogram to visualise the distribution of the data\n",
    "\n",
    "df.hist(bins=20, figsize=(10, 10))\n",
    "plt.show()"
   ]
  },
  {
   "cell_type": "code",
   "execution_count": null,
   "metadata": {},
   "outputs": [],
   "source": []
  },
  {
   "cell_type": "code",
   "execution_count": 8,
   "metadata": {},
   "outputs": [
    {
     "data": {
      "text/plain": [
       "fixed acidity             91\n",
       "volatile acidity         135\n",
       "citric acid               77\n",
       "residual sugar            80\n",
       "chlorides                131\n",
       "free sulfur dioxide       53\n",
       "total sulfur dioxide     138\n",
       "density                  388\n",
       "pH                        87\n",
       "sulphates                 89\n",
       "alcohol                   61\n",
       "quality                    6\n",
       "Id                      1143\n",
       "dtype: int64"
      ]
     },
     "execution_count": 8,
     "metadata": {},
     "output_type": "execute_result"
    }
   ],
   "source": [
    "df.nunique()  # There are a total of different features for each case"
   ]
  },
  {
   "cell_type": "code",
   "execution_count": null,
   "metadata": {},
   "outputs": [],
   "source": []
  },
  {
   "cell_type": "code",
   "execution_count": 9,
   "metadata": {},
   "outputs": [
    {
     "data": {
      "text/plain": [
       "<matplotlib.axes._subplots.AxesSubplot at 0x7fddfbe7f8e0>"
      ]
     },
     "execution_count": 9,
     "metadata": {},
     "output_type": "execute_result"
    },
    {
     "data": {
      "image/png": "[encoded data removed]",
      "text/plain": [
       "<Figure size 432x288 with 1 Axes>"
      ]
     },
     "metadata": {
      "needs_background": "light"
     },
     "output_type": "display_data"
    }
   ],
   "source": [
    "sb.countplot(df['quality'])"
   ]
  },
  {
   "cell_type": "code",
   "execution_count": null,
   "metadata": {},
   "outputs": [],
   "source": []
  },
  {
   "cell_type": "code",
   "execution_count": 10,
   "metadata": {},
   "outputs": [
    {
     "data": {
      "text/plain": [
       "<matplotlib.axes._subplots.AxesSubplot at 0x7fddfc279ee0>"
      ]
     },
     "execution_count": 10,
     "metadata": {},
     "output_type": "execute_result"
    },
    {
     "data": {
      "image/png": "[encoded data removed]",
      "text/plain": [
       "<Figure size 432x288 with 1 Axes>"
      ]
     },
     "metadata": {
      "needs_background": "light"
     },
     "output_type": "display_data"
    }
   ],
   "source": [
    "sb.barplot(x='quality', y='alcohol', data=df, edgecolor=None, linewidth=0)"
   ]
  },
  {
   "cell_type": "code",
   "execution_count": null,
   "metadata": {},
   "outputs": [],
   "source": []
  },
  {
   "cell_type": "markdown",
   "metadata": {},
   "source": [
    "# Analyzing the correlation between features"
   ]
  },
  {
   "cell_type": "code",
   "execution_count": 11,
   "metadata": {},
   "outputs": [
    {
     "data": {
      "image/png": "[encoded data removed]",
      "text/plain": [
       "<Figure size 1080x1080 with 2 Axes>"
      ]
     },
     "metadata": {
      "needs_background": "light"
     },
     "output_type": "display_data"
    }
   ],
   "source": [
    "# Analyzing the correlation between features\n",
    "\n",
    "plt.figure(figsize=(15, 15))\n",
    "sb.heatmap(df.corr(), annot=True, cmap = 'coolwarm',cbar=True)\n",
    "plt.show()\n",
    "\n"
   ]
  },
  {
   "cell_type": "code",
   "execution_count": null,
   "metadata": {},
   "outputs": [],
   "source": []
  },
  {
   "cell_type": "code",
   "execution_count": 12,
   "metadata": {},
   "outputs": [
    {
     "data": {
      "text/plain": [
       "quality                 1.000000\n",
       "alcohol                 0.484866\n",
       "sulphates               0.257710\n",
       "citric acid             0.240821\n",
       "fixed acidity           0.121970\n",
       "Id                      0.069708\n",
       "residual sugar          0.022002\n",
       "pH                     -0.052453\n",
       "free sulfur dioxide    -0.063260\n",
       "chlorides              -0.124085\n",
       "density                -0.175208\n",
       "total sulfur dioxide   -0.183339\n",
       "volatile acidity       -0.407394\n",
       "Name: quality, dtype: float64"
      ]
     },
     "execution_count": 12,
     "metadata": {},
     "output_type": "execute_result"
    }
   ],
   "source": [
    "df.corr()['quality'].sort_values(ascending=False)\n",
    "\n"
   ]
  },
  {
   "cell_type": "code",
   "execution_count": null,
   "metadata": {},
   "outputs": [],
   "source": []
  },
  {
   "cell_type": "markdown",
   "metadata": {},
   "source": [
    "# Data Processing"
   ]
  },
  {
   "cell_type": "code",
   "execution_count": null,
   "metadata": {},
   "outputs": [],
   "source": []
  },
  {
   "cell_type": "code",
   "execution_count": 13,
   "metadata": {},
   "outputs": [],
   "source": [
    "# df['quality'] = df.quality.apply(lambda x:2 if x>6 else 0 if x<=5 else 1 )\n",
    "df['quality'] = df.quality.apply(lambda x:1 if x>5 else 0 )\n"
   ]
  },
  {
   "cell_type": "code",
   "execution_count": 14,
   "metadata": {},
   "outputs": [
    {
     "data": {
      "text/plain": [
       "1    621\n",
       "0    522\n",
       "Name: quality, dtype: int64"
      ]
     },
     "execution_count": 14,
     "metadata": {},
     "output_type": "execute_result"
    }
   ],
   "source": [
    "df['quality'].value_counts()"
   ]
  },
  {
   "cell_type": "code",
   "execution_count": 15,
   "metadata": {},
   "outputs": [
    {
     "data": {
      "image/png": "[encoded data removed]",
      "text/plain": [
       "<Figure size 432x288 with 1 Axes>"
      ]
     },
     "metadata": {
      "needs_background": "light"
     },
     "output_type": "display_data"
    }
   ],
   "source": [
    "# Plot quality classification \n",
    "      \n",
    "df['quality'].value_counts()\n",
    "      \n",
    "plt.figure(num=None)\n",
    "sb.countplot(data = df, x = 'quality', saturation=0.5)\n",
    "plt.title(\"Types of Wine\")\n",
    "plt.xticks([-1,0,1,2], ['','bad wine','good wine', ''])\n",
    "plt.show()"
   ]
  },
  {
   "cell_type": "code",
   "execution_count": null,
   "metadata": {},
   "outputs": [],
   "source": []
  },
  {
   "cell_type": "markdown",
   "metadata": {},
   "source": [
    "# Machine Learning classification models"
   ]
  },
  {
   "cell_type": "code",
   "execution_count": null,
   "metadata": {},
   "outputs": [],
   "source": []
  },
  {
   "cell_type": "code",
   "execution_count": 16,
   "metadata": {},
   "outputs": [],
   "source": [
    "from sklearn.model_selection import train_test_split\n",
    "#from sklearn.preprocessing import MinMaxScaler\n",
    "from sklearn.preprocessing import StandardScaler\n",
    "\n",
    "from sklearn.tree import DecisionTreeClassifier\n",
    "from xgboost import XGBClassifier\n",
    "from sklearn.linear_model import LogisticRegression\n",
    "from sklearn.ensemble import RandomForestClassifier\n",
    "\n",
    "\n",
    "\n",
    "from sklearn import metrics\n",
    "from sklearn.metrics import accuracy_score\n",
    "\n",
    "from sklearn.model_selection import cross_val_score\n",
    "\n",
    "from sklearn.metrics import confusion_matrix\n",
    "\n",
    "import joblib"
   ]
  },
  {
   "cell_type": "code",
   "execution_count": null,
   "metadata": {},
   "outputs": [],
   "source": []
  },
  {
   "cell_type": "code",
   "execution_count": 17,
   "metadata": {},
   "outputs": [],
   "source": [
    "X = df.drop(['quality','Id'], axis=1)\n",
    "y = df['quality']"
   ]
  },
  {
   "cell_type": "code",
   "execution_count": 18,
   "metadata": {},
   "outputs": [],
   "source": [
    "X_train, X_test, y_train, y_test = train_test_split(X,y,test_size=0.3,random_state=42)"
   ]
  },
  {
   "cell_type": "code",
   "execution_count": 19,
   "metadata": {},
   "outputs": [
    {
     "name": "stdout",
     "output_type": "stream",
     "text": [
      "X_train (800, 11)\n",
      "y_train (800,)\n",
      "X_test (343, 11)\n",
      "y_test (343,)\n"
     ]
    }
   ],
   "source": [
    "print(\"X_train\", X_train.shape)\n",
    "print(\"y_train\", y_train.shape)\n",
    "print(\"X_test\", X_test.shape)\n",
    "print(\"y_test\", y_test.shape)"
   ]
  },
  {
   "cell_type": "markdown",
   "metadata": {},
   "source": [
    "#### Normalizing data"
   ]
  },
  {
   "cell_type": "code",
   "execution_count": 20,
   "metadata": {},
   "outputs": [],
   "source": [
    "# Normalizing data\n",
    "\n",
    "norm = StandardScaler()\n",
    "X_train = norm.fit_transform(X_train)\n",
    "X_test = norm.transform(X_test)\n",
    "\n"
   ]
  },
  {
   "cell_type": "markdown",
   "metadata": {},
   "source": [
    "#### Logistic regression"
   ]
  },
  {
   "cell_type": "code",
   "execution_count": 21,
   "metadata": {},
   "outputs": [
    {
     "name": "stdout",
     "output_type": "stream",
     "text": [
      "Cross-Validation Scores:\n",
      "Fold 1: 0.7125\n",
      "Fold 2: 0.7937\n",
      "Fold 3: 0.7625\n",
      "Fold 4: 0.7562\n",
      "Fold 5: 0.7688\n",
      "Mean CV Score: 0.7588\n",
      "\n",
      "Logistic Regression:\n",
      "Training Accuracy: 0.7762\n",
      "Validation Accuracy: 0.7347\n",
      "\n"
     ]
    }
   ],
   "source": [
    "# Data processing and Model training for Logistic Regression\n",
    "model_logreg = LogisticRegression(solver='lbfgs', multi_class = 'auto',class_weight='balanced')\n",
    "model_logreg.fit(X_train, y_train)\n",
    "\n",
    "\n",
    "# Perform cross-validation\n",
    "cv_scores = cross_val_score(model_logreg, X_train, y_train, cv=5)\n",
    "\n",
    "# Calculate predictions\n",
    "train_preds = model_logreg.predict(X_train)\n",
    "val_preds = model_logreg.predict(X_test)\n",
    "\n",
    "# Print cross-validation scores\n",
    "print('Cross-Validation Scores:')\n",
    "for i, score in enumerate(cv_scores, 1):\n",
    "    print(f'Fold {i}: {score:.4f}')\n",
    "print(f'Mean CV Score: {cv_scores.mean():.4f}\\n')\n",
    "\n",
    "print('Logistic Regression:')\n",
    "print(f'Training Accuracy: {metrics.accuracy_score(y_train, train_preds):.4f}')\n",
    "print(f'Validation Accuracy: {metrics.accuracy_score(y_test, val_preds):.4f}')\n",
    "print()"
   ]
  },
  {
   "cell_type": "code",
   "execution_count": 22,
   "metadata": {},
   "outputs": [
    {
     "name": "stdout",
     "output_type": "stream",
     "text": [
      "The precision of the model: 73.47%\n"
     ]
    }
   ],
   "source": [
    "# Validation\n",
    "\n",
    "y_pred = model_logreg.predict(X_test)\n",
    "accuracy = accuracy_score(y_test, y_pred)\n",
    "print(\"The precision of the model: {:.2f}%\".format(accuracy * 100))"
   ]
  },
  {
   "cell_type": "code",
   "execution_count": null,
   "metadata": {},
   "outputs": [],
   "source": []
  },
  {
   "cell_type": "code",
   "execution_count": 23,
   "metadata": {},
   "outputs": [
    {
     "data": {
      "image/png": "[encoded data removed]",
      "text/plain": [
       "<Figure size 432x288 with 2 Axes>"
      ]
     },
     "metadata": {
      "needs_background": "light"
     },
     "output_type": "display_data"
    }
   ],
   "source": [
    "# Defining confusion matrix\n",
    "\n",
    "conf_matrix = confusion_matrix(y_test, y_pred)\n",
    "\n",
    "# # Visualizing confusion matrix\n",
    "\n",
    "sb.heatmap(conf_matrix, cmap=\"vlag\", annot=True, fmt='d')\n",
    "plt.xlabel('Predicted labels')\n",
    "plt.ylabel('True labels')\n",
    "plt.show()"
   ]
  },
  {
   "cell_type": "markdown",
   "metadata": {},
   "source": [
    "#### Our model predicted ‘0’ correctly 115 times while predicting ‘0’ incorrectly 54 times\n",
    "#### Also it predicted ‘1’ incorrectly 37 times while predicting ‘1’ correctly 137 times"
   ]
  },
  {
   "cell_type": "code",
   "execution_count": null,
   "metadata": {},
   "outputs": [],
   "source": []
  },
  {
   "cell_type": "code",
   "execution_count": 24,
   "metadata": {},
   "outputs": [
    {
     "name": "stdout",
     "output_type": "stream",
     "text": [
      "              precision    recall  f1-score   support\n",
      "\n",
      "           0       0.68      0.76      0.72       152\n",
      "           1       0.79      0.72      0.75       191\n",
      "\n",
      "    accuracy                           0.73       343\n",
      "   macro avg       0.73      0.74      0.73       343\n",
      "weighted avg       0.74      0.73      0.74       343\n",
      "\n"
     ]
    }
   ],
   "source": [
    "# Print the classification report for the best performing model.\n",
    "\n",
    "print(metrics.classification_report(y_test,model_logreg.predict(X_test)))"
   ]
  },
  {
   "cell_type": "code",
   "execution_count": null,
   "metadata": {},
   "outputs": [],
   "source": []
  },
  {
   "cell_type": "markdown",
   "metadata": {},
   "source": [
    "#### Save the model"
   ]
  },
  {
   "cell_type": "code",
   "execution_count": 25,
   "metadata": {},
   "outputs": [
    {
     "data": {
      "text/plain": [
       "['LogReg_joblib.pkl']"
      ]
     },
     "execution_count": 25,
     "metadata": {},
     "output_type": "execute_result"
    }
   ],
   "source": [
    "# Save the model\n",
    "# Joblib\n",
    "\n",
    "joblib.dump(model_logreg, 'LogReg_joblib.pkl')"
   ]
  },
  {
   "cell_type": "code",
   "execution_count": 26,
   "metadata": {},
   "outputs": [],
   "source": [
    "# Use the model\n",
    "model_trained_joblib = joblib.load('LogReg_joblib.pkl')"
   ]
  },
  {
   "cell_type": "code",
   "execution_count": 27,
   "metadata": {},
   "outputs": [
    {
     "data": {
      "text/html": [
       "<div>\n",
       "<style scoped>\n",
       "    .dataframe tbody tr th:only-of-type {\n",
       "        vertical-align: middle;\n",
       "    }\n",
       "\n",
       "    .dataframe tbody tr th {\n",
       "        vertical-align: top;\n",
       "    }\n",
       "\n",
       "    .dataframe thead th {\n",
       "        text-align: right;\n",
       "    }\n",
       "</style>\n",
       "<table border=\"1\" class=\"dataframe\">\n",
       "  <thead>\n",
       "    <tr style=\"text-align: right;\">\n",
       "      <th></th>\n",
       "      <th>fixed acidity</th>\n",
       "      <th>volatile acidity</th>\n",
       "      <th>citric acid</th>\n",
       "      <th>residual sugar</th>\n",
       "      <th>chlorides</th>\n",
       "      <th>free sulfur dioxide</th>\n",
       "      <th>total sulfur dioxide</th>\n",
       "      <th>density</th>\n",
       "      <th>pH</th>\n",
       "      <th>sulphates</th>\n",
       "      <th>alcohol</th>\n",
       "    </tr>\n",
       "  </thead>\n",
       "  <tbody>\n",
       "    <tr>\n",
       "      <th>0</th>\n",
       "      <td>7.4</td>\n",
       "      <td>0.70</td>\n",
       "      <td>0.00</td>\n",
       "      <td>1.9</td>\n",
       "      <td>76</td>\n",
       "      <td>11.0</td>\n",
       "      <td>34.0</td>\n",
       "      <td>0.9978</td>\n",
       "      <td>3.51</td>\n",
       "      <td>0.56</td>\n",
       "      <td>9.4</td>\n",
       "    </tr>\n",
       "    <tr>\n",
       "      <th>1</th>\n",
       "      <td>7.8</td>\n",
       "      <td>0.88</td>\n",
       "      <td>0.00</td>\n",
       "      <td>2.6</td>\n",
       "      <td>98</td>\n",
       "      <td>25.0</td>\n",
       "      <td>67.0</td>\n",
       "      <td>0.9968</td>\n",
       "      <td>3.20</td>\n",
       "      <td>0.68</td>\n",
       "      <td>9.8</td>\n",
       "    </tr>\n",
       "    <tr>\n",
       "      <th>2</th>\n",
       "      <td>7.8</td>\n",
       "      <td>0.76</td>\n",
       "      <td>0.04</td>\n",
       "      <td>2.3</td>\n",
       "      <td>92</td>\n",
       "      <td>15.0</td>\n",
       "      <td>54.0</td>\n",
       "      <td>997.0000</td>\n",
       "      <td>3.26</td>\n",
       "      <td>0.65</td>\n",
       "      <td>9.8</td>\n",
       "    </tr>\n",
       "    <tr>\n",
       "      <th>3</th>\n",
       "      <td>11.2</td>\n",
       "      <td>0.28</td>\n",
       "      <td>0.56</td>\n",
       "      <td>1.9</td>\n",
       "      <td>75</td>\n",
       "      <td>17.0</td>\n",
       "      <td>60.0</td>\n",
       "      <td>998.0000</td>\n",
       "      <td>3.16</td>\n",
       "      <td>0.58</td>\n",
       "      <td>9.8</td>\n",
       "    </tr>\n",
       "    <tr>\n",
       "      <th>4</th>\n",
       "      <td>7.4</td>\n",
       "      <td>0.70</td>\n",
       "      <td>0.00</td>\n",
       "      <td>1.9</td>\n",
       "      <td>76</td>\n",
       "      <td>11.0</td>\n",
       "      <td>34.0</td>\n",
       "      <td>0.9978</td>\n",
       "      <td>3.51</td>\n",
       "      <td>0.56</td>\n",
       "      <td>9.4</td>\n",
       "    </tr>\n",
       "    <tr>\n",
       "      <th>5</th>\n",
       "      <td>7.4</td>\n",
       "      <td>0.66</td>\n",
       "      <td>0.00</td>\n",
       "      <td>1.8</td>\n",
       "      <td>75</td>\n",
       "      <td>13.0</td>\n",
       "      <td>40.0</td>\n",
       "      <td>0.9978</td>\n",
       "      <td>3.51</td>\n",
       "      <td>0.56</td>\n",
       "      <td>9.4</td>\n",
       "    </tr>\n",
       "    <tr>\n",
       "      <th>6</th>\n",
       "      <td>7.9</td>\n",
       "      <td>0.60</td>\n",
       "      <td>0.06</td>\n",
       "      <td>1.6</td>\n",
       "      <td>69</td>\n",
       "      <td>15.0</td>\n",
       "      <td>59.0</td>\n",
       "      <td>0.9964</td>\n",
       "      <td>3.30</td>\n",
       "      <td>0.46</td>\n",
       "      <td>9.4</td>\n",
       "    </tr>\n",
       "    <tr>\n",
       "      <th>7</th>\n",
       "      <td>7.3</td>\n",
       "      <td>0.65</td>\n",
       "      <td>0.00</td>\n",
       "      <td>1.2</td>\n",
       "      <td>65</td>\n",
       "      <td>15.0</td>\n",
       "      <td>21.0</td>\n",
       "      <td>0.9946</td>\n",
       "      <td>3.39</td>\n",
       "      <td>0.47</td>\n",
       "      <td>10.0</td>\n",
       "    </tr>\n",
       "    <tr>\n",
       "      <th>8</th>\n",
       "      <td>7.8</td>\n",
       "      <td>0.58</td>\n",
       "      <td>0.02</td>\n",
       "      <td>2.0</td>\n",
       "      <td>73</td>\n",
       "      <td>9.0</td>\n",
       "      <td>18.0</td>\n",
       "      <td>0.9968</td>\n",
       "      <td>3.36</td>\n",
       "      <td>0.57</td>\n",
       "      <td>9.5</td>\n",
       "    </tr>\n",
       "  </tbody>\n",
       "</table>\n",
       "</div>"
      ],
      "text/plain": [
       "   fixed acidity  volatile acidity  citric acid  residual sugar  chlorides  \\\n",
       "0            7.4              0.70         0.00             1.9         76   \n",
       "1            7.8              0.88         0.00             2.6         98   \n",
       "2            7.8              0.76         0.04             2.3         92   \n",
       "3           11.2              0.28         0.56             1.9         75   \n",
       "4            7.4              0.70         0.00             1.9         76   \n",
       "5            7.4              0.66         0.00             1.8         75   \n",
       "6            7.9              0.60         0.06             1.6         69   \n",
       "7            7.3              0.65         0.00             1.2         65   \n",
       "8            7.8              0.58         0.02             2.0         73   \n",
       "\n",
       "   free sulfur dioxide  total sulfur dioxide   density    pH  sulphates  \\\n",
       "0                 11.0                  34.0    0.9978  3.51       0.56   \n",
       "1                 25.0                  67.0    0.9968  3.20       0.68   \n",
       "2                 15.0                  54.0  997.0000  3.26       0.65   \n",
       "3                 17.0                  60.0  998.0000  3.16       0.58   \n",
       "4                 11.0                  34.0    0.9978  3.51       0.56   \n",
       "5                 13.0                  40.0    0.9978  3.51       0.56   \n",
       "6                 15.0                  59.0    0.9964  3.30       0.46   \n",
       "7                 15.0                  21.0    0.9946  3.39       0.47   \n",
       "8                  9.0                  18.0    0.9968  3.36       0.57   \n",
       "\n",
       "   alcohol  \n",
       "0      9.4  \n",
       "1      9.8  \n",
       "2      9.8  \n",
       "3      9.8  \n",
       "4      9.4  \n",
       "5      9.4  \n",
       "6      9.4  \n",
       "7     10.0  \n",
       "8      9.5  "
      ]
     },
     "execution_count": 27,
     "metadata": {},
     "output_type": "execute_result"
    }
   ],
   "source": [
    "new_data_joblib = pd.read_excel('new-data.xlsx')\n",
    "new_data_joblib"
   ]
  },
  {
   "cell_type": "code",
   "execution_count": 28,
   "metadata": {},
   "outputs": [
    {
     "name": "stderr",
     "output_type": "stream",
     "text": [
      "/Users/adriandominguezcastro/opt/anaconda3/lib/python3.8/site-packages/sklearn/base.py:458: UserWarning: X has feature names, but LogisticRegression was fitted without feature names\n",
      "  warnings.warn(\n"
     ]
    },
    {
     "data": {
      "text/plain": [
       "array([0, 0, 0, 0, 0, 0, 0, 0, 0])"
      ]
     },
     "execution_count": 28,
     "metadata": {},
     "output_type": "execute_result"
    }
   ],
   "source": [
    "new_predictions_joblib = model_trained_joblib.predict(new_data_joblib)\n",
    "new_predictions_joblib"
   ]
  },
  {
   "cell_type": "code",
   "execution_count": 29,
   "metadata": {},
   "outputs": [],
   "source": [
    "new_data_joblib.insert(0, \"Prediction\", new_predictions_joblib, allow_duplicates= False)"
   ]
  },
  {
   "cell_type": "code",
   "execution_count": 30,
   "metadata": {},
   "outputs": [
    {
     "data": {
      "text/html": [
       "<div>\n",
       "<style scoped>\n",
       "    .dataframe tbody tr th:only-of-type {\n",
       "        vertical-align: middle;\n",
       "    }\n",
       "\n",
       "    .dataframe tbody tr th {\n",
       "        vertical-align: top;\n",
       "    }\n",
       "\n",
       "    .dataframe thead th {\n",
       "        text-align: right;\n",
       "    }\n",
       "</style>\n",
       "<table border=\"1\" class=\"dataframe\">\n",
       "  <thead>\n",
       "    <tr style=\"text-align: right;\">\n",
       "      <th></th>\n",
       "      <th>Prediction</th>\n",
       "      <th>fixed acidity</th>\n",
       "      <th>volatile acidity</th>\n",
       "      <th>citric acid</th>\n",
       "      <th>residual sugar</th>\n",
       "      <th>chlorides</th>\n",
       "      <th>free sulfur dioxide</th>\n",
       "      <th>total sulfur dioxide</th>\n",
       "      <th>density</th>\n",
       "      <th>pH</th>\n",
       "      <th>sulphates</th>\n",
       "      <th>alcohol</th>\n",
       "    </tr>\n",
       "  </thead>\n",
       "  <tbody>\n",
       "    <tr>\n",
       "      <th>1</th>\n",
       "      <td>0</td>\n",
       "      <td>7.8</td>\n",
       "      <td>0.88</td>\n",
       "      <td>0.00</td>\n",
       "      <td>2.6</td>\n",
       "      <td>98</td>\n",
       "      <td>25.0</td>\n",
       "      <td>67.0</td>\n",
       "      <td>0.9968</td>\n",
       "      <td>3.20</td>\n",
       "      <td>0.68</td>\n",
       "      <td>9.8</td>\n",
       "    </tr>\n",
       "    <tr>\n",
       "      <th>3</th>\n",
       "      <td>0</td>\n",
       "      <td>11.2</td>\n",
       "      <td>0.28</td>\n",
       "      <td>0.56</td>\n",
       "      <td>1.9</td>\n",
       "      <td>75</td>\n",
       "      <td>17.0</td>\n",
       "      <td>60.0</td>\n",
       "      <td>998.0000</td>\n",
       "      <td>3.16</td>\n",
       "      <td>0.58</td>\n",
       "      <td>9.8</td>\n",
       "    </tr>\n",
       "    <tr>\n",
       "      <th>8</th>\n",
       "      <td>0</td>\n",
       "      <td>7.8</td>\n",
       "      <td>0.58</td>\n",
       "      <td>0.02</td>\n",
       "      <td>2.0</td>\n",
       "      <td>73</td>\n",
       "      <td>9.0</td>\n",
       "      <td>18.0</td>\n",
       "      <td>0.9968</td>\n",
       "      <td>3.36</td>\n",
       "      <td>0.57</td>\n",
       "      <td>9.5</td>\n",
       "    </tr>\n",
       "    <tr>\n",
       "      <th>5</th>\n",
       "      <td>0</td>\n",
       "      <td>7.4</td>\n",
       "      <td>0.66</td>\n",
       "      <td>0.00</td>\n",
       "      <td>1.8</td>\n",
       "      <td>75</td>\n",
       "      <td>13.0</td>\n",
       "      <td>40.0</td>\n",
       "      <td>0.9978</td>\n",
       "      <td>3.51</td>\n",
       "      <td>0.56</td>\n",
       "      <td>9.4</td>\n",
       "    </tr>\n",
       "    <tr>\n",
       "      <th>6</th>\n",
       "      <td>0</td>\n",
       "      <td>7.9</td>\n",
       "      <td>0.60</td>\n",
       "      <td>0.06</td>\n",
       "      <td>1.6</td>\n",
       "      <td>69</td>\n",
       "      <td>15.0</td>\n",
       "      <td>59.0</td>\n",
       "      <td>0.9964</td>\n",
       "      <td>3.30</td>\n",
       "      <td>0.46</td>\n",
       "      <td>9.4</td>\n",
       "    </tr>\n",
       "    <tr>\n",
       "      <th>7</th>\n",
       "      <td>0</td>\n",
       "      <td>7.3</td>\n",
       "      <td>0.65</td>\n",
       "      <td>0.00</td>\n",
       "      <td>1.2</td>\n",
       "      <td>65</td>\n",
       "      <td>15.0</td>\n",
       "      <td>21.0</td>\n",
       "      <td>0.9946</td>\n",
       "      <td>3.39</td>\n",
       "      <td>0.47</td>\n",
       "      <td>10.0</td>\n",
       "    </tr>\n",
       "    <tr>\n",
       "      <th>2</th>\n",
       "      <td>0</td>\n",
       "      <td>7.8</td>\n",
       "      <td>0.76</td>\n",
       "      <td>0.04</td>\n",
       "      <td>2.3</td>\n",
       "      <td>92</td>\n",
       "      <td>15.0</td>\n",
       "      <td>54.0</td>\n",
       "      <td>997.0000</td>\n",
       "      <td>3.26</td>\n",
       "      <td>0.65</td>\n",
       "      <td>9.8</td>\n",
       "    </tr>\n",
       "    <tr>\n",
       "      <th>0</th>\n",
       "      <td>0</td>\n",
       "      <td>7.4</td>\n",
       "      <td>0.70</td>\n",
       "      <td>0.00</td>\n",
       "      <td>1.9</td>\n",
       "      <td>76</td>\n",
       "      <td>11.0</td>\n",
       "      <td>34.0</td>\n",
       "      <td>0.9978</td>\n",
       "      <td>3.51</td>\n",
       "      <td>0.56</td>\n",
       "      <td>9.4</td>\n",
       "    </tr>\n",
       "    <tr>\n",
       "      <th>4</th>\n",
       "      <td>0</td>\n",
       "      <td>7.4</td>\n",
       "      <td>0.70</td>\n",
       "      <td>0.00</td>\n",
       "      <td>1.9</td>\n",
       "      <td>76</td>\n",
       "      <td>11.0</td>\n",
       "      <td>34.0</td>\n",
       "      <td>0.9978</td>\n",
       "      <td>3.51</td>\n",
       "      <td>0.56</td>\n",
       "      <td>9.4</td>\n",
       "    </tr>\n",
       "  </tbody>\n",
       "</table>\n",
       "</div>"
      ],
      "text/plain": [
       "   Prediction  fixed acidity  volatile acidity  citric acid  residual sugar  \\\n",
       "1           0            7.8              0.88         0.00             2.6   \n",
       "3           0           11.2              0.28         0.56             1.9   \n",
       "8           0            7.8              0.58         0.02             2.0   \n",
       "5           0            7.4              0.66         0.00             1.8   \n",
       "6           0            7.9              0.60         0.06             1.6   \n",
       "7           0            7.3              0.65         0.00             1.2   \n",
       "2           0            7.8              0.76         0.04             2.3   \n",
       "0           0            7.4              0.70         0.00             1.9   \n",
       "4           0            7.4              0.70         0.00             1.9   \n",
       "\n",
       "   chlorides  free sulfur dioxide  total sulfur dioxide   density    pH  \\\n",
       "1         98                 25.0                  67.0    0.9968  3.20   \n",
       "3         75                 17.0                  60.0  998.0000  3.16   \n",
       "8         73                  9.0                  18.0    0.9968  3.36   \n",
       "5         75                 13.0                  40.0    0.9978  3.51   \n",
       "6         69                 15.0                  59.0    0.9964  3.30   \n",
       "7         65                 15.0                  21.0    0.9946  3.39   \n",
       "2         92                 15.0                  54.0  997.0000  3.26   \n",
       "0         76                 11.0                  34.0    0.9978  3.51   \n",
       "4         76                 11.0                  34.0    0.9978  3.51   \n",
       "\n",
       "   sulphates  alcohol  \n",
       "1       0.68      9.8  \n",
       "3       0.58      9.8  \n",
       "8       0.57      9.5  \n",
       "5       0.56      9.4  \n",
       "6       0.46      9.4  \n",
       "7       0.47     10.0  \n",
       "2       0.65      9.8  \n",
       "0       0.56      9.4  \n",
       "4       0.56      9.4  "
      ]
     },
     "execution_count": 30,
     "metadata": {},
     "output_type": "execute_result"
    }
   ],
   "source": [
    "new_data_joblib.sample(9)"
   ]
  },
  {
   "cell_type": "code",
   "execution_count": null,
   "metadata": {},
   "outputs": [],
   "source": []
  },
  {
   "cell_type": "markdown",
   "metadata": {},
   "source": [
    "#### Random Forest"
   ]
  },
  {
   "cell_type": "code",
   "execution_count": 31,
   "metadata": {},
   "outputs": [
    {
     "name": "stdout",
     "output_type": "stream",
     "text": [
      "Cross-Validation Scores:\n",
      "Fold 1: 0.7125\n",
      "Fold 2: 0.8000\n",
      "Fold 3: 0.7937\n",
      "Fold 4: 0.7562\n",
      "Fold 5: 0.7438\n",
      "Mean CV Score: 0.7613\n",
      "\n",
      "Random Forest:\n",
      "Training Accuracy: 0.8488\n",
      "Validation Accuracy: 0.7726\n",
      "\n"
     ]
    }
   ],
   "source": [
    "# Model training for Random Forest\n",
    "model_rf = RandomForestClassifier(n_estimators=100, max_depth = 5, random_state=42, class_weight='balanced_subsample')\n",
    "model_rf.fit(X_train, y_train)\n",
    "\n",
    "\n",
    "# Perform cross-validation\n",
    "cv_scores = cross_val_score(model_rf, X_train, y_train, cv=5)\n",
    "\n",
    "# Calculate predictions\n",
    "train_preds = model_rf.predict(X_train)\n",
    "val_preds = model_rf.predict(X_test)\n",
    "\n",
    "# Print cross-validation scores\n",
    "print('Cross-Validation Scores:')\n",
    "for i, score in enumerate(cv_scores, 1):\n",
    "    print(f'Fold {i}: {score:.4f}')\n",
    "print(f'Mean CV Score: {cv_scores.mean():.4f}\\n')\n",
    "\n",
    "\n",
    "\n",
    "\n",
    "print('Random Forest:')\n",
    "print(f'Training Accuracy: {metrics.accuracy_score(y_train, train_preds):.4f}')\n",
    "print(f'Validation Accuracy: {metrics.accuracy_score(y_test, val_preds):.4f}')\n",
    "print()"
   ]
  },
  {
   "cell_type": "code",
   "execution_count": 32,
   "metadata": {},
   "outputs": [
    {
     "name": "stdout",
     "output_type": "stream",
     "text": [
      "The precision of the model: 77.26%\n"
     ]
    }
   ],
   "source": [
    "# Validation\n",
    "\n",
    "y_pred = model_rf.predict(X_test)\n",
    "accuracy = accuracy_score(y_test, y_pred)\n",
    "print(\"The precision of the model: {:.2f}%\".format(accuracy * 100))"
   ]
  },
  {
   "cell_type": "code",
   "execution_count": null,
   "metadata": {},
   "outputs": [],
   "source": []
  },
  {
   "cell_type": "code",
   "execution_count": 33,
   "metadata": {},
   "outputs": [
    {
     "data": {
      "image/png": "[encoded data removed]",
      "text/plain": [
       "<Figure size 432x288 with 2 Axes>"
      ]
     },
     "metadata": {
      "needs_background": "light"
     },
     "output_type": "display_data"
    }
   ],
   "source": [
    "# Visualizing confusion matrix\n",
    "conf_matrix = confusion_matrix(y_test, y_pred)\n",
    "\n",
    "sb.heatmap(conf_matrix, cmap=\"vlag\", annot=True, fmt='d')\n",
    "plt.xlabel('Predicted labels')\n",
    "plt.ylabel('True labels')\n",
    "plt.show()"
   ]
  },
  {
   "cell_type": "code",
   "execution_count": 34,
   "metadata": {},
   "outputs": [
    {
     "name": "stdout",
     "output_type": "stream",
     "text": [
      "              precision    recall  f1-score   support\n",
      "\n",
      "           0       0.71      0.82      0.76       152\n",
      "           1       0.83      0.74      0.78       191\n",
      "\n",
      "    accuracy                           0.77       343\n",
      "   macro avg       0.77      0.78      0.77       343\n",
      "weighted avg       0.78      0.77      0.77       343\n",
      "\n"
     ]
    }
   ],
   "source": [
    "# Print the classification report for the best performing model.\n",
    "\n",
    "print(metrics.classification_report(y_test,model_rf.predict(X_test)))"
   ]
  },
  {
   "cell_type": "markdown",
   "metadata": {},
   "source": []
  },
  {
   "cell_type": "markdown",
   "metadata": {},
   "source": [
    "#### Save the model\n"
   ]
  },
  {
   "cell_type": "code",
   "execution_count": 35,
   "metadata": {},
   "outputs": [
    {
     "data": {
      "text/plain": [
       "['RF_joblib.pkl']"
      ]
     },
     "execution_count": 35,
     "metadata": {},
     "output_type": "execute_result"
    }
   ],
   "source": [
    "# Save the model\n",
    "# Joblib\n",
    "\n",
    "joblib.dump(model_rf, 'RF_joblib.pkl')"
   ]
  },
  {
   "cell_type": "code",
   "execution_count": null,
   "metadata": {},
   "outputs": [],
   "source": []
  },
  {
   "cell_type": "markdown",
   "metadata": {},
   "source": [
    "#### XGBoost"
   ]
  },
  {
   "cell_type": "code",
   "execution_count": 36,
   "metadata": {},
   "outputs": [
    {
     "name": "stdout",
     "output_type": "stream",
     "text": [
      "Cross-Validation Scores:\n",
      "Fold 1: 0.7625\n",
      "Fold 2: 0.7937\n",
      "Fold 3: 0.7562\n",
      "Fold 4: 0.7438\n",
      "Fold 5: 0.7250\n",
      "Mean CV Score: 0.7562\n",
      "\n",
      "XGBoost:\n",
      "Training Accuracy: 1.0000\n",
      "Validation Accuracy: 0.7697\n",
      "\n"
     ]
    }
   ],
   "source": [
    "# Data processing and Model training for Random Forest\n",
    "\n",
    "model_xgb = XGBClassifier(n_estimators=100, max_depth=5, random_state=42)\n",
    "# Fit the model\n",
    "model_xgb.fit(X_train, y_train)\n",
    "\n",
    "# Perform cross-validation\n",
    "cv_scores = cross_val_score(model_xgb, X_train, y_train, cv=5)\n",
    "\n",
    "# Calculate predictions\n",
    "train_preds = model_xgb.predict(X_train)\n",
    "val_preds = model_xgb.predict(X_test)\n",
    "\n",
    "# Print cross-validation scores\n",
    "print('Cross-Validation Scores:')\n",
    "for i, score in enumerate(cv_scores, 1):\n",
    "    print(f'Fold {i}: {score:.4f}')\n",
    "print(f'Mean CV Score: {cv_scores.mean():.4f}\\n')\n",
    "\n",
    "# Print training and validation accuracies\n",
    "print('XGBoost:')\n",
    "print(f'Training Accuracy: {metrics.accuracy_score(y_train, train_preds):.4f}')\n",
    "print(f'Validation Accuracy: {metrics.accuracy_score(y_test, val_preds):.4f}')\n",
    "print()"
   ]
  },
  {
   "cell_type": "code",
   "execution_count": 37,
   "metadata": {},
   "outputs": [
    {
     "name": "stdout",
     "output_type": "stream",
     "text": [
      "The precision of the model: 76.97%\n"
     ]
    }
   ],
   "source": [
    "# Validation\n",
    "\n",
    "y_pred = model_xgb.predict(X_test)\n",
    "accuracy = accuracy_score(y_test, y_pred)\n",
    "print(\"The precision of the model: {:.2f}%\".format(accuracy * 100))"
   ]
  },
  {
   "cell_type": "code",
   "execution_count": 38,
   "metadata": {},
   "outputs": [
    {
     "data": {
      "image/png": "[encoded data removed]",
      "text/plain": [
       "<Figure size 432x288 with 2 Axes>"
      ]
     },
     "metadata": {
      "needs_background": "light"
     },
     "output_type": "display_data"
    }
   ],
   "source": [
    "# Visualizing confusion matrix\n",
    "conf_matrix = confusion_matrix(y_test, y_pred)\n",
    "\n",
    "sb.heatmap(conf_matrix, cmap=\"vlag\", annot=True, fmt='d')\n",
    "plt.xlabel('Predicted labels')\n",
    "plt.ylabel('True labels')\n",
    "plt.show()"
   ]
  },
  {
   "cell_type": "code",
   "execution_count": 39,
   "metadata": {},
   "outputs": [
    {
     "name": "stdout",
     "output_type": "stream",
     "text": [
      "              precision    recall  f1-score   support\n",
      "\n",
      "           0       0.71      0.81      0.76       152\n",
      "           1       0.83      0.74      0.78       191\n",
      "\n",
      "    accuracy                           0.77       343\n",
      "   macro avg       0.77      0.77      0.77       343\n",
      "weighted avg       0.78      0.77      0.77       343\n",
      "\n"
     ]
    }
   ],
   "source": [
    "# Print the classification report for the best performing model.\n",
    "\n",
    "print(metrics.classification_report(y_test,model_xgb.predict(X_test)))"
   ]
  },
  {
   "cell_type": "markdown",
   "metadata": {},
   "source": [
    "#### This suggests that the model has decent performance, but there might be some overfitting, as the training accuracy is higher than the validation accuracy."
   ]
  },
  {
   "cell_type": "code",
   "execution_count": null,
   "metadata": {},
   "outputs": [],
   "source": []
  },
  {
   "cell_type": "markdown",
   "metadata": {},
   "source": [
    "#### Grid search"
   ]
  },
  {
   "cell_type": "code",
   "execution_count": 40,
   "metadata": {},
   "outputs": [
    {
     "name": "stdout",
     "output_type": "stream",
     "text": [
      "Cross-Validation Scores:\n",
      "Fold 1: 0.7438\n",
      "Fold 2: 0.7937\n",
      "Fold 3: 0.7688\n",
      "Fold 4: 0.7562\n",
      "Fold 5: 0.7438\n",
      "Mean CV Score: 0.7613\n",
      "\n",
      "XGBoost:\n",
      "Training Accuracy: 0.8900\n",
      "Validation Accuracy: 0.7638\n",
      "\n"
     ]
    }
   ],
   "source": [
    "from sklearn.model_selection import GridSearchCV\n",
    "from xgboost import XGBClassifier\n",
    "from sklearn.model_selection import cross_val_score\n",
    "from sklearn import metrics\n",
    "\n",
    "# Define a smaller parameter grid to search\n",
    "param_grid = {\n",
    "    'reg_alpha': [0, 0.001, 0.01, 0.1, 0.2, 0.5, 1, 2, 5, 10],\n",
    "    'reg_lambda': [0, 0.001, 0.01, 0.1, 0.2, 0.5, 1, 2, 5, 10],\n",
    "    'learning_rate': [0.5, 0.2, 0.1, 0.05, 0.001, 0.0001],\n",
    "    'max_depth': [None, 1, 3, 5, 7]\n",
    "}\n",
    "\n",
    "# Create the GridSearchCV object\n",
    "#grid_search = GridSearchCV(estimator=XGBClassifier(learning_rate=0.1, n_estimators=100, max_depth=5, min_child_weight=1, random_state=42),\n",
    "grid_search = GridSearchCV(estimator=XGBClassifier(n_estimators=100, min_child_weight=1, random_state=42),\n",
    "                           param_grid=param_grid,\n",
    "                           scoring='accuracy',\n",
    "                           cv=5,\n",
    "                           n_jobs=-1)\n",
    "\n",
    "# Perform the grid search\n",
    "grid_search.fit(X_train, y_train)\n",
    "\n",
    "# Get the best model\n",
    "best_model = grid_search.best_estimator_\n",
    "\n",
    "# Utilize the best parameters to train the model\n",
    "best_model = XGBClassifier(learning_rate=0.1, n_estimators=100, max_depth=3, min_child_weight=1,\n",
    "                            reg_alpha=grid_search.best_params_['reg_alpha'], reg_lambda=grid_search.best_params_['reg_lambda'])\n",
    "\n",
    "# Fit the best model\n",
    "best_model.fit(X_train, y_train)\n",
    "\n",
    "# Perform cross-validation with the best model\n",
    "cv_scores = cross_val_score(best_model, X_train, y_train, cv=5)\n",
    "\n",
    "# Calculate predictions\n",
    "train_preds = best_model.predict(X_train)\n",
    "val_preds = best_model.predict(X_test)\n",
    "\n",
    "# Print cross-validation scores\n",
    "print('Cross-Validation Scores:')\n",
    "for i, score in enumerate(cv_scores, 1):\n",
    "    print(f'Fold {i}: {score:.4f}')\n",
    "print(f'Mean CV Score: {cv_scores.mean():.4f}\\n')\n",
    "\n",
    "# Print training and validation accuracies\n",
    "print('XGBoost:')\n",
    "print(f'Training Accuracy: {metrics.accuracy_score(y_train, train_preds):.4f}')\n",
    "print(f'Validation Accuracy: {metrics.accuracy_score(y_test, val_preds):.4f}')\n",
    "print()\n",
    "\n",
    "# Print the best model\n",
    "#print(\"Best XGBoost model:\")\n",
    "#print(best_model)\n"
   ]
  },
  {
   "cell_type": "markdown",
   "metadata": {},
   "source": [
    "#### Save the model"
   ]
  },
  {
   "cell_type": "code",
   "execution_count": 41,
   "metadata": {},
   "outputs": [
    {
     "data": {
      "text/plain": [
       "['XGBoost_joblib.pkl']"
      ]
     },
     "execution_count": 41,
     "metadata": {},
     "output_type": "execute_result"
    }
   ],
   "source": [
    "# Save the model\n",
    "# Joblib\n",
    "\n",
    "joblib.dump(best_model, 'XGBoost_joblib.pkl')"
   ]
  },
  {
   "cell_type": "code",
   "execution_count": null,
   "metadata": {},
   "outputs": [],
   "source": []
  },
  {
   "cell_type": "markdown",
   "metadata": {},
   "source": [
    "#### Deep Neural network"
   ]
  },
  {
   "cell_type": "code",
   "execution_count": 42,
   "metadata": {},
   "outputs": [
    {
     "name": "stdout",
     "output_type": "stream",
     "text": [
      "Epoch 1/100\n",
      "25/25 [==============================] - 1s 14ms/step - loss: 1.3296 - accuracy: 0.6787 - val_loss: 0.7922 - val_accuracy: 0.6910\n",
      "Epoch 2/100\n",
      "25/25 [==============================] - 0s 3ms/step - loss: 0.6668 - accuracy: 0.7500 - val_loss: 0.6482 - val_accuracy: 0.7551\n",
      "Epoch 3/100\n",
      "25/25 [==============================] - 0s 2ms/step - loss: 0.6196 - accuracy: 0.7513 - val_loss: 0.6327 - val_accuracy: 0.7405\n",
      "Epoch 4/100\n",
      "25/25 [==============================] - 0s 2ms/step - loss: 0.6038 - accuracy: 0.7700 - val_loss: 0.6333 - val_accuracy: 0.7201\n",
      "Epoch 5/100\n",
      "25/25 [==============================] - 0s 2ms/step - loss: 0.5947 - accuracy: 0.7738 - val_loss: 0.6246 - val_accuracy: 0.7230\n",
      "Epoch 6/100\n",
      "25/25 [==============================] - 0s 3ms/step - loss: 0.6175 - accuracy: 0.7475 - val_loss: 0.6315 - val_accuracy: 0.7580\n",
      "Epoch 7/100\n",
      "25/25 [==============================] - 0s 2ms/step - loss: 0.6061 - accuracy: 0.7538 - val_loss: 0.6363 - val_accuracy: 0.7201\n",
      "Epoch 8/100\n",
      "25/25 [==============================] - 0s 2ms/step - loss: 0.5935 - accuracy: 0.7713 - val_loss: 0.6209 - val_accuracy: 0.7201\n",
      "Epoch 9/100\n",
      "25/25 [==============================] - 0s 2ms/step - loss: 0.5859 - accuracy: 0.7688 - val_loss: 0.6232 - val_accuracy: 0.7434\n",
      "Epoch 10/100\n",
      "25/25 [==============================] - 0s 3ms/step - loss: 0.6008 - accuracy: 0.7513 - val_loss: 0.6022 - val_accuracy: 0.7376\n",
      "Epoch 11/100\n",
      "25/25 [==============================] - 0s 3ms/step - loss: 0.5834 - accuracy: 0.7750 - val_loss: 0.6078 - val_accuracy: 0.7551\n",
      "Epoch 12/100\n",
      "25/25 [==============================] - 0s 3ms/step - loss: 0.5829 - accuracy: 0.7700 - val_loss: 0.5945 - val_accuracy: 0.7609\n",
      "Epoch 13/100\n",
      "25/25 [==============================] - 0s 2ms/step - loss: 0.5988 - accuracy: 0.7625 - val_loss: 0.6077 - val_accuracy: 0.7551\n",
      "Epoch 14/100\n",
      "25/25 [==============================] - 0s 2ms/step - loss: 0.5841 - accuracy: 0.7675 - val_loss: 0.5982 - val_accuracy: 0.7522\n",
      "Epoch 15/100\n",
      "25/25 [==============================] - 0s 3ms/step - loss: 0.5824 - accuracy: 0.7713 - val_loss: 0.5959 - val_accuracy: 0.7493\n",
      "Epoch 16/100\n",
      "25/25 [==============================] - 0s 3ms/step - loss: 0.5874 - accuracy: 0.7688 - val_loss: 0.6106 - val_accuracy: 0.7493\n",
      "Epoch 17/100\n",
      "25/25 [==============================] - 0s 2ms/step - loss: 0.5879 - accuracy: 0.7750 - val_loss: 0.5897 - val_accuracy: 0.7697\n",
      "Epoch 18/100\n",
      "25/25 [==============================] - 0s 3ms/step - loss: 0.5890 - accuracy: 0.7613 - val_loss: 0.6342 - val_accuracy: 0.7143\n",
      "Epoch 19/100\n",
      "25/25 [==============================] - 0s 3ms/step - loss: 0.5900 - accuracy: 0.7625 - val_loss: 0.5970 - val_accuracy: 0.7434\n",
      "Epoch 20/100\n",
      "25/25 [==============================] - 0s 3ms/step - loss: 0.5758 - accuracy: 0.7650 - val_loss: 0.6140 - val_accuracy: 0.7259\n",
      "Epoch 21/100\n",
      "25/25 [==============================] - 0s 2ms/step - loss: 0.5870 - accuracy: 0.7675 - val_loss: 0.5951 - val_accuracy: 0.7697\n",
      "Epoch 22/100\n",
      "25/25 [==============================] - 0s 2ms/step - loss: 0.5777 - accuracy: 0.7588 - val_loss: 0.6014 - val_accuracy: 0.7318\n",
      "Epoch 23/100\n",
      "25/25 [==============================] - 0s 2ms/step - loss: 0.5722 - accuracy: 0.7812 - val_loss: 0.5920 - val_accuracy: 0.7376\n",
      "Epoch 24/100\n",
      "25/25 [==============================] - 0s 2ms/step - loss: 0.5741 - accuracy: 0.7663 - val_loss: 0.5988 - val_accuracy: 0.7464\n",
      "Epoch 25/100\n",
      "25/25 [==============================] - 0s 2ms/step - loss: 0.5743 - accuracy: 0.7763 - val_loss: 0.6047 - val_accuracy: 0.7464\n",
      "Epoch 26/100\n",
      "25/25 [==============================] - 0s 2ms/step - loss: 0.5704 - accuracy: 0.7713 - val_loss: 0.5904 - val_accuracy: 0.7668\n",
      "Epoch 27/100\n",
      "25/25 [==============================] - 0s 3ms/step - loss: 0.5710 - accuracy: 0.7713 - val_loss: 0.5948 - val_accuracy: 0.7318\n",
      "Epoch 28/100\n",
      "25/25 [==============================] - 0s 2ms/step - loss: 0.5745 - accuracy: 0.7763 - val_loss: 0.5932 - val_accuracy: 0.7580\n",
      "Epoch 29/100\n",
      "25/25 [==============================] - 0s 2ms/step - loss: 0.5789 - accuracy: 0.7738 - val_loss: 0.5977 - val_accuracy: 0.7289\n",
      "Epoch 30/100\n",
      "25/25 [==============================] - 0s 3ms/step - loss: 0.5773 - accuracy: 0.7725 - val_loss: 0.5954 - val_accuracy: 0.7638\n",
      "Epoch 31/100\n",
      "25/25 [==============================] - 0s 2ms/step - loss: 0.5733 - accuracy: 0.7700 - val_loss: 0.5850 - val_accuracy: 0.7668\n",
      "Epoch 32/100\n",
      "25/25 [==============================] - 0s 2ms/step - loss: 0.5749 - accuracy: 0.7638 - val_loss: 0.6033 - val_accuracy: 0.7551\n",
      "Epoch 33/100\n",
      "25/25 [==============================] - 0s 3ms/step - loss: 0.5657 - accuracy: 0.7800 - val_loss: 0.5865 - val_accuracy: 0.7697\n",
      "Epoch 34/100\n",
      "25/25 [==============================] - 0s 2ms/step - loss: 0.5660 - accuracy: 0.7700 - val_loss: 0.6380 - val_accuracy: 0.7114\n",
      "Epoch 35/100\n",
      "25/25 [==============================] - 0s 2ms/step - loss: 0.5706 - accuracy: 0.7750 - val_loss: 0.5924 - val_accuracy: 0.7376\n",
      "Epoch 36/100\n",
      "25/25 [==============================] - 0s 2ms/step - loss: 0.5733 - accuracy: 0.7600 - val_loss: 0.5869 - val_accuracy: 0.7580\n",
      "Epoch 37/100\n",
      "25/25 [==============================] - 0s 2ms/step - loss: 0.5661 - accuracy: 0.7713 - val_loss: 0.5945 - val_accuracy: 0.7609\n",
      "Epoch 38/100\n",
      "25/25 [==============================] - 0s 2ms/step - loss: 0.5682 - accuracy: 0.7750 - val_loss: 0.5826 - val_accuracy: 0.7551\n",
      "Epoch 39/100\n",
      "25/25 [==============================] - 0s 2ms/step - loss: 0.5674 - accuracy: 0.7650 - val_loss: 0.5936 - val_accuracy: 0.7434\n",
      "Epoch 40/100\n",
      "25/25 [==============================] - 0s 2ms/step - loss: 0.5717 - accuracy: 0.7750 - val_loss: 0.5884 - val_accuracy: 0.7434\n",
      "Epoch 41/100\n",
      "25/25 [==============================] - 0s 2ms/step - loss: 0.5777 - accuracy: 0.7638 - val_loss: 0.5850 - val_accuracy: 0.7551\n",
      "Epoch 42/100\n",
      "25/25 [==============================] - 0s 2ms/step - loss: 0.5598 - accuracy: 0.7850 - val_loss: 0.5998 - val_accuracy: 0.7347\n",
      "Epoch 43/100\n",
      "25/25 [==============================] - 0s 2ms/step - loss: 0.5688 - accuracy: 0.7750 - val_loss: 0.5904 - val_accuracy: 0.7434\n",
      "Epoch 44/100\n",
      "25/25 [==============================] - 0s 2ms/step - loss: 0.5779 - accuracy: 0.7688 - val_loss: 0.6305 - val_accuracy: 0.7230\n",
      "Epoch 45/100\n",
      "25/25 [==============================] - 0s 2ms/step - loss: 0.5822 - accuracy: 0.7663 - val_loss: 0.6005 - val_accuracy: 0.7172\n",
      "Epoch 46/100\n",
      "25/25 [==============================] - 0s 2ms/step - loss: 0.5791 - accuracy: 0.7812 - val_loss: 0.5850 - val_accuracy: 0.7580\n",
      "Epoch 47/100\n",
      "25/25 [==============================] - 0s 2ms/step - loss: 0.5733 - accuracy: 0.7713 - val_loss: 0.5932 - val_accuracy: 0.7434\n",
      "Epoch 48/100\n",
      "25/25 [==============================] - 0s 2ms/step - loss: 0.5703 - accuracy: 0.7613 - val_loss: 0.5984 - val_accuracy: 0.7172\n",
      "Epoch 49/100\n",
      "25/25 [==============================] - 0s 2ms/step - loss: 0.5658 - accuracy: 0.7812 - val_loss: 0.5940 - val_accuracy: 0.7289\n",
      "Epoch 50/100\n",
      "25/25 [==============================] - 0s 2ms/step - loss: 0.5703 - accuracy: 0.7650 - val_loss: 0.5893 - val_accuracy: 0.7638\n",
      "Epoch 51/100\n",
      "25/25 [==============================] - 0s 2ms/step - loss: 0.5641 - accuracy: 0.7725 - val_loss: 0.5895 - val_accuracy: 0.7522\n",
      "Epoch 52/100\n",
      "25/25 [==============================] - 0s 2ms/step - loss: 0.5650 - accuracy: 0.7738 - val_loss: 0.6113 - val_accuracy: 0.7143\n",
      "Epoch 53/100\n",
      "25/25 [==============================] - 0s 2ms/step - loss: 0.5725 - accuracy: 0.7625 - val_loss: 0.6166 - val_accuracy: 0.7289\n",
      "Epoch 54/100\n",
      "25/25 [==============================] - 0s 2ms/step - loss: 0.5691 - accuracy: 0.7713 - val_loss: 0.5860 - val_accuracy: 0.7551\n",
      "Epoch 55/100\n",
      "25/25 [==============================] - 0s 2ms/step - loss: 0.5646 - accuracy: 0.7800 - val_loss: 0.5970 - val_accuracy: 0.7376\n",
      "Epoch 56/100\n",
      "25/25 [==============================] - 0s 2ms/step - loss: 0.5659 - accuracy: 0.7738 - val_loss: 0.5868 - val_accuracy: 0.7405\n",
      "Epoch 57/100\n",
      "25/25 [==============================] - 0s 2ms/step - loss: 0.5620 - accuracy: 0.7763 - val_loss: 0.5973 - val_accuracy: 0.7347\n",
      "Epoch 58/100\n",
      "25/25 [==============================] - 0s 2ms/step - loss: 0.5696 - accuracy: 0.7613 - val_loss: 0.6020 - val_accuracy: 0.7289\n"
     ]
    },
    {
     "name": "stdout",
     "output_type": "stream",
     "text": [
      "Epoch 59/100\n",
      "25/25 [==============================] - 0s 2ms/step - loss: 0.5623 - accuracy: 0.7800 - val_loss: 0.5921 - val_accuracy: 0.7347\n",
      "Epoch 60/100\n",
      "25/25 [==============================] - 0s 2ms/step - loss: 0.5697 - accuracy: 0.7650 - val_loss: 0.5874 - val_accuracy: 0.7405\n",
      "Epoch 61/100\n",
      "25/25 [==============================] - 0s 2ms/step - loss: 0.5656 - accuracy: 0.7688 - val_loss: 0.5858 - val_accuracy: 0.7434\n",
      "Epoch 62/100\n",
      "25/25 [==============================] - 0s 2ms/step - loss: 0.5654 - accuracy: 0.7688 - val_loss: 0.5848 - val_accuracy: 0.7522\n",
      "Epoch 63/100\n",
      "25/25 [==============================] - 0s 2ms/step - loss: 0.5653 - accuracy: 0.7775 - val_loss: 0.5907 - val_accuracy: 0.7493\n",
      "Epoch 64/100\n",
      "25/25 [==============================] - 0s 2ms/step - loss: 0.5622 - accuracy: 0.7750 - val_loss: 0.5908 - val_accuracy: 0.7580\n",
      "Epoch 65/100\n",
      "25/25 [==============================] - 0s 2ms/step - loss: 0.5671 - accuracy: 0.7800 - val_loss: 0.6096 - val_accuracy: 0.7755\n",
      "Epoch 66/100\n",
      "25/25 [==============================] - 0s 2ms/step - loss: 0.5689 - accuracy: 0.7675 - val_loss: 0.5913 - val_accuracy: 0.7405\n",
      "Epoch 67/100\n",
      "25/25 [==============================] - 0s 2ms/step - loss: 0.5700 - accuracy: 0.7725 - val_loss: 0.5826 - val_accuracy: 0.7609\n",
      "Epoch 68/100\n",
      "25/25 [==============================] - 0s 2ms/step - loss: 0.5626 - accuracy: 0.7700 - val_loss: 0.5896 - val_accuracy: 0.7580\n",
      "Epoch 69/100\n",
      "25/25 [==============================] - 0s 2ms/step - loss: 0.5627 - accuracy: 0.7663 - val_loss: 0.5968 - val_accuracy: 0.7697\n",
      "Epoch 70/100\n",
      "25/25 [==============================] - 0s 2ms/step - loss: 0.5666 - accuracy: 0.7613 - val_loss: 0.5874 - val_accuracy: 0.7464\n",
      "Epoch 71/100\n",
      "25/25 [==============================] - 0s 2ms/step - loss: 0.5682 - accuracy: 0.7688 - val_loss: 0.5862 - val_accuracy: 0.7522\n",
      "Epoch 72/100\n",
      "25/25 [==============================] - 0s 2ms/step - loss: 0.5638 - accuracy: 0.7738 - val_loss: 0.5913 - val_accuracy: 0.7201\n",
      "Epoch 73/100\n",
      "25/25 [==============================] - 0s 2ms/step - loss: 0.5651 - accuracy: 0.7750 - val_loss: 0.6134 - val_accuracy: 0.7347\n",
      "Epoch 74/100\n",
      "25/25 [==============================] - 0s 2ms/step - loss: 0.5609 - accuracy: 0.7775 - val_loss: 0.6136 - val_accuracy: 0.7172\n",
      "Epoch 75/100\n",
      "25/25 [==============================] - 0s 2ms/step - loss: 0.5687 - accuracy: 0.7613 - val_loss: 0.5881 - val_accuracy: 0.7405\n",
      "Epoch 76/100\n",
      "25/25 [==============================] - 0s 2ms/step - loss: 0.5605 - accuracy: 0.7788 - val_loss: 0.5938 - val_accuracy: 0.7551\n",
      "Epoch 77/100\n",
      "25/25 [==============================] - 0s 2ms/step - loss: 0.5619 - accuracy: 0.7675 - val_loss: 0.6084 - val_accuracy: 0.7318\n",
      "Epoch 78/100\n",
      "25/25 [==============================] - 0s 2ms/step - loss: 0.5581 - accuracy: 0.7825 - val_loss: 0.5864 - val_accuracy: 0.7464\n",
      "Epoch 79/100\n",
      "25/25 [==============================] - 0s 2ms/step - loss: 0.5663 - accuracy: 0.7750 - val_loss: 0.5923 - val_accuracy: 0.7580\n",
      "Epoch 80/100\n",
      "25/25 [==============================] - 0s 2ms/step - loss: 0.5599 - accuracy: 0.7763 - val_loss: 0.5961 - val_accuracy: 0.7347\n",
      "Epoch 81/100\n",
      "25/25 [==============================] - 0s 2ms/step - loss: 0.5608 - accuracy: 0.7750 - val_loss: 0.5959 - val_accuracy: 0.7318\n",
      "Epoch 82/100\n",
      "25/25 [==============================] - 0s 2ms/step - loss: 0.5674 - accuracy: 0.7688 - val_loss: 0.5971 - val_accuracy: 0.7784\n",
      "Epoch 83/100\n",
      "25/25 [==============================] - 0s 2ms/step - loss: 0.5664 - accuracy: 0.7688 - val_loss: 0.6117 - val_accuracy: 0.7289\n",
      "Epoch 84/100\n",
      "25/25 [==============================] - 0s 2ms/step - loss: 0.5728 - accuracy: 0.7750 - val_loss: 0.5850 - val_accuracy: 0.7493\n",
      "Epoch 85/100\n",
      "25/25 [==============================] - 0s 2ms/step - loss: 0.5556 - accuracy: 0.7800 - val_loss: 0.5897 - val_accuracy: 0.7580\n",
      "Epoch 86/100\n",
      "25/25 [==============================] - 0s 2ms/step - loss: 0.5555 - accuracy: 0.7775 - val_loss: 0.5957 - val_accuracy: 0.7726\n",
      "Epoch 87/100\n",
      "25/25 [==============================] - 0s 2ms/step - loss: 0.5702 - accuracy: 0.7675 - val_loss: 0.6468 - val_accuracy: 0.6939\n",
      "Epoch 88/100\n",
      "25/25 [==============================] - 0s 2ms/step - loss: 0.5770 - accuracy: 0.7613 - val_loss: 0.6129 - val_accuracy: 0.7201\n",
      "Epoch 89/100\n",
      "25/25 [==============================] - 0s 2ms/step - loss: 0.5631 - accuracy: 0.7688 - val_loss: 0.5940 - val_accuracy: 0.7609\n",
      "Epoch 90/100\n",
      "25/25 [==============================] - 0s 2ms/step - loss: 0.5611 - accuracy: 0.7775 - val_loss: 0.5981 - val_accuracy: 0.7318\n",
      "Epoch 91/100\n",
      "25/25 [==============================] - 0s 2ms/step - loss: 0.5642 - accuracy: 0.7713 - val_loss: 0.5921 - val_accuracy: 0.7493\n",
      "Epoch 92/100\n",
      "25/25 [==============================] - 0s 2ms/step - loss: 0.5763 - accuracy: 0.7675 - val_loss: 0.5891 - val_accuracy: 0.7638\n",
      "Epoch 93/100\n",
      "25/25 [==============================] - 0s 2ms/step - loss: 0.5575 - accuracy: 0.7775 - val_loss: 0.5967 - val_accuracy: 0.7580\n",
      "Epoch 94/100\n",
      "25/25 [==============================] - 0s 2ms/step - loss: 0.5613 - accuracy: 0.7812 - val_loss: 0.5877 - val_accuracy: 0.7434\n",
      "Epoch 95/100\n",
      "25/25 [==============================] - 0s 2ms/step - loss: 0.5707 - accuracy: 0.7663 - val_loss: 0.5895 - val_accuracy: 0.7434\n",
      "Epoch 96/100\n",
      "25/25 [==============================] - 0s 2ms/step - loss: 0.5563 - accuracy: 0.7775 - val_loss: 0.5967 - val_accuracy: 0.7522\n",
      "Epoch 97/100\n",
      "25/25 [==============================] - 0s 2ms/step - loss: 0.5590 - accuracy: 0.7700 - val_loss: 0.5895 - val_accuracy: 0.7668\n",
      "Epoch 98/100\n",
      "25/25 [==============================] - 0s 2ms/step - loss: 0.5656 - accuracy: 0.7812 - val_loss: 0.5912 - val_accuracy: 0.7434\n",
      "Epoch 99/100\n",
      "25/25 [==============================] - 0s 2ms/step - loss: 0.5661 - accuracy: 0.7812 - val_loss: 0.6126 - val_accuracy: 0.7143\n",
      "Epoch 100/100\n",
      "25/25 [==============================] - 0s 2ms/step - loss: 0.5678 - accuracy: 0.7600 - val_loss: 0.5884 - val_accuracy: 0.7522\n",
      "11/11 [==============================] - 0s 1ms/step - loss: 0.5884 - accuracy: 0.7522\n",
      "Loss: 0.5883578658103943, Accuracy: 0.7521865963935852\n",
      "25/25 [==============================] - 0s 794us/step\n",
      "11/11 [==============================] - 0s 858us/step\n",
      "Training Accuracy: 0.7800\n",
      "Validation Accuracy: 0.7522\n",
      "\n"
     ]
    }
   ],
   "source": [
    "import tensorflow as tf\n",
    "from tensorflow.keras.models import Sequential\n",
    "from tensorflow.keras.layers import Dense\n",
    "from tensorflow.keras.optimizers import Adam\n",
    "from tensorflow.keras import regularizers\n",
    "\n",
    "\n",
    "\n",
    "# Crear el modelo secuencial\n",
    "model = Sequential()\n",
    "\n",
    "# Añadir capas densas\n",
    "model.add(Dense(64, activation='relu', kernel_regularizer=regularizers.l2(0.01),input_shape=(X_train.shape[1],)))\n",
    "model.add(Dense(64, activation='relu', kernel_regularizer=regularizers.l2(0.01)))\n",
    "model.add(Dense(64, activation='relu', kernel_regularizer=regularizers.l2(0.01)))\n",
    "model.add(Dense(64, activation='relu', kernel_regularizer=regularizers.l2(0.01)))\n",
    "model.add(Dense(1, activation='sigmoid', kernel_regularizer=regularizers.l2(0.01)))  # 1 nodo de salida para clasificación binaria\n",
    "\n",
    "\n",
    "# Definir el learning rate\n",
    "learning_rate = 0.01\n",
    "\n",
    "# Compilar el modelo con el optimizador Adam y el learning rate especificado\n",
    "\n",
    "model.compile(optimizer=Adam(learning_rate=learning_rate), loss='binary_crossentropy', metrics=['accuracy'])\n",
    "\n",
    "\n",
    "\n",
    "# Entrenar el modelo\n",
    "model.fit(X_train, y_train, epochs=100, batch_size=32, validation_data=(X_test, y_test))\n",
    "\n",
    "# Evaluar el modelo\n",
    "loss, accuracy = model.evaluate(X_test, y_test)\n",
    "print(f'Loss: {loss}, Accuracy: {accuracy}')\n",
    "\n",
    "\n",
    "# Calculate predictions\n",
    "train_preds = model.predict(X_train)\n",
    "val_preds = model.predict(X_test)\n",
    "\n",
    "# Convertir las probabilidades en etiquetas binarias\n",
    "train_preds_bin = (train_preds > 0.5).astype(int)\n",
    "val_preds_bin = (val_preds > 0.5).astype(int)\n",
    "\n",
    "# Calcular la precisión de entrenamiento y validación\n",
    "print(f'Training Accuracy: {metrics.accuracy_score(y_train, train_preds_bin):.4f}')\n",
    "print(f'Validation Accuracy: {metrics.accuracy_score(y_test, val_preds_bin):.4f}')\n",
    "print()\n",
    "\n",
    "\n"
   ]
  },
  {
   "cell_type": "code",
   "execution_count": 43,
   "metadata": {},
   "outputs": [
    {
     "data": {
      "image/png": "[encoded data removed]",
      "text/plain": [
       "<Figure size 432x288 with 2 Axes>"
      ]
     },
     "metadata": {
      "needs_background": "light"
     },
     "output_type": "display_data"
    }
   ],
   "source": [
    "# Visualizing confusion matrix\n",
    "conf_matrix = confusion_matrix(y_test, val_preds_bin)\n",
    "\n",
    "sb.heatmap(conf_matrix, cmap=\"vlag\", annot=True, fmt='d')\n",
    "plt.xlabel('Predicted labels')\n",
    "plt.ylabel('True labels')\n",
    "plt.show()"
   ]
  },
  {
   "cell_type": "code",
   "execution_count": 44,
   "metadata": {},
   "outputs": [
    {
     "name": "stdout",
     "output_type": "stream",
     "text": [
      "              precision    recall  f1-score   support\n",
      "\n",
      "           0       0.71      0.76      0.73       152\n",
      "           1       0.79      0.75      0.77       191\n",
      "\n",
      "    accuracy                           0.75       343\n",
      "   macro avg       0.75      0.75      0.75       343\n",
      "weighted avg       0.76      0.75      0.75       343\n",
      "\n"
     ]
    }
   ],
   "source": [
    "# Print the classification report for the best performing model.\n",
    "\n",
    "print(metrics.classification_report(y_test,val_preds_bin))"
   ]
  },
  {
   "cell_type": "code",
   "execution_count": 45,
   "metadata": {},
   "outputs": [],
   "source": [
    "# Save the model\n",
    "model.save('dnn_model.h5')\n",
    "\n",
    "# Load the model\n",
    "#loaded_model = tf.keras.models.load_model('my_model.h5')\n"
   ]
  },
  {
   "cell_type": "code",
   "execution_count": null,
   "metadata": {},
   "outputs": [],
   "source": []
  },
  {
   "cell_type": "markdown",
   "metadata": {},
   "source": [
    "# Conclusions"
   ]
  },
  {
   "cell_type": "markdown",
   "metadata": {},
   "source": [
    "#### The most relevant results obtained for the Machine Learning algorithms explored are ( order based on the Validation Accuracy):\n",
    "#### * Random Forest            ( 77.26%)\n",
    "#### * XGBoost                       ( 76.38%)\n",
    "#### * Deep Neural Network  (75.22%)\n",
    "#### * Logistic Regression     (73.4%)\n",
    "#### The accuracy of the wine quality prediction results can be improved by increasing the amount of data obtaining a superior balance between the different class of wine quality studied here.\n",
    "#### In addition, a search of hyperparameters, the use of regularization, and a simplification of the model are alternatives to consider to avoid potential overfitting and a overall model performance."
   ]
  },
  {
   "cell_type": "code",
   "execution_count": null,
   "metadata": {},
   "outputs": [],
   "source": []
  }
 ],
 "metadata": {
  "kernelspec": {
   "display_name": "Python 3",
   "language": "python",
   "name": "python3"
  },
  "language_info": {
   "codemirror_mode": {
    "name": "ipython",
    "version": 3
   },
   "file_extension": ".py",
   "mimetype": "text/x-python",
   "name": "python",
   "nbconvert_exporter": "python",
   "pygments_lexer": "ipython3",
   "version": "3.8.3"
  }
 },
 "nbformat": 4,
 "nbformat_minor": 4
}
