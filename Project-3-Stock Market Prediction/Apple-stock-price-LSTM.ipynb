{
 "cells": [
  {
   "cell_type": "markdown",
   "metadata": {},
   "source": [
    "## Apple Stock Market Predictions using LSTM"
   ]
  },
  {
   "cell_type": "markdown",
   "metadata": {},
   "source": [
    "### This code obtains historical stock price data for Apple, preprocesses the data, builds and trains an LSTM model, and then uses the model to predict future stock prices.  It also includes visualization of the data and the model's predictions."
   ]
  },
  {
   "cell_type": "code",
   "execution_count": 1,
   "metadata": {},
   "outputs": [],
   "source": [
    "# Importing necessary libraries\n",
    "import matplotlib.pyplot as plt  # For plotting\n",
    "import numpy as np  # For numerical operations\n",
    "import pandas as pd  # For data manipulation\n",
    "import yfinance as yf  # For fetching stock data\n",
    "from sklearn.preprocessing import MinMaxScaler  # For data scaling\n",
    "from sklearn.model_selection import train_test_split  # For splitting data\n",
    "import tensorflow as tf  # For building the LSTM model\n",
    "from tensorflow.keras.models import Sequential\n",
    "from tensorflow.keras.layers import Dense, Dropout, LSTM\n",
    "from sklearn.metrics import mean_absolute_error  # For model evaluation\n",
    "\n",
    "np.random.seed(123)"
   ]
  },
  {
   "cell_type": "code",
   "execution_count": 2,
   "metadata": {},
   "outputs": [
    {
     "name": "stderr",
     "output_type": "stream",
     "text": [
      "[*********************100%%**********************]  1 of 1 completed\n"
     ]
    }
   ],
   "source": [
    "# Fetch historical data for Apple stock\n",
    "#df = yf.download('AAPL', period=\"max\")[['Close']].reset_index()\n",
    "\n",
    "df = yf.download('AAPL',start=\"2015-01-01\",end=\"2024-05-09\")\n",
    "\n"
   ]
  },
  {
   "cell_type": "code",
   "execution_count": 3,
   "metadata": {},
   "outputs": [
    {
     "data": {
      "text/html": [
       "<div>\n",
       "<style scoped>\n",
       "    .dataframe tbody tr th:only-of-type {\n",
       "        vertical-align: middle;\n",
       "    }\n",
       "\n",
       "    .dataframe tbody tr th {\n",
       "        vertical-align: top;\n",
       "    }\n",
       "\n",
       "    .dataframe thead th {\n",
       "        text-align: right;\n",
       "    }\n",
       "</style>\n",
       "<table border=\"1\" class=\"dataframe\">\n",
       "  <thead>\n",
       "    <tr style=\"text-align: right;\">\n",
       "      <th></th>\n",
       "      <th>Open</th>\n",
       "      <th>High</th>\n",
       "      <th>Low</th>\n",
       "      <th>Close</th>\n",
       "      <th>Adj Close</th>\n",
       "      <th>Volume</th>\n",
       "    </tr>\n",
       "    <tr>\n",
       "      <th>Date</th>\n",
       "      <th></th>\n",
       "      <th></th>\n",
       "      <th></th>\n",
       "      <th></th>\n",
       "      <th></th>\n",
       "      <th></th>\n",
       "    </tr>\n",
       "  </thead>\n",
       "  <tbody>\n",
       "    <tr>\n",
       "      <th>2015-01-02</th>\n",
       "      <td>27.847500</td>\n",
       "      <td>27.860001</td>\n",
       "      <td>26.837500</td>\n",
       "      <td>27.332500</td>\n",
       "      <td>24.402168</td>\n",
       "      <td>212818400</td>\n",
       "    </tr>\n",
       "    <tr>\n",
       "      <th>2015-01-05</th>\n",
       "      <td>27.072500</td>\n",
       "      <td>27.162500</td>\n",
       "      <td>26.352501</td>\n",
       "      <td>26.562500</td>\n",
       "      <td>23.714724</td>\n",
       "      <td>257142000</td>\n",
       "    </tr>\n",
       "    <tr>\n",
       "      <th>2015-01-06</th>\n",
       "      <td>26.635000</td>\n",
       "      <td>26.857500</td>\n",
       "      <td>26.157499</td>\n",
       "      <td>26.565001</td>\n",
       "      <td>23.716961</td>\n",
       "      <td>263188400</td>\n",
       "    </tr>\n",
       "    <tr>\n",
       "      <th>2015-01-07</th>\n",
       "      <td>26.799999</td>\n",
       "      <td>27.049999</td>\n",
       "      <td>26.674999</td>\n",
       "      <td>26.937500</td>\n",
       "      <td>24.049517</td>\n",
       "      <td>160423600</td>\n",
       "    </tr>\n",
       "    <tr>\n",
       "      <th>2015-01-08</th>\n",
       "      <td>27.307501</td>\n",
       "      <td>28.037500</td>\n",
       "      <td>27.174999</td>\n",
       "      <td>27.972500</td>\n",
       "      <td>24.973557</td>\n",
       "      <td>237458000</td>\n",
       "    </tr>\n",
       "  </tbody>\n",
       "</table>\n",
       "</div>"
      ],
      "text/plain": [
       "                 Open       High        Low      Close  Adj Close     Volume\n",
       "Date                                                                        \n",
       "2015-01-02  27.847500  27.860001  26.837500  27.332500  24.402168  212818400\n",
       "2015-01-05  27.072500  27.162500  26.352501  26.562500  23.714724  257142000\n",
       "2015-01-06  26.635000  26.857500  26.157499  26.565001  23.716961  263188400\n",
       "2015-01-07  26.799999  27.049999  26.674999  26.937500  24.049517  160423600\n",
       "2015-01-08  27.307501  28.037500  27.174999  27.972500  24.973557  237458000"
      ]
     },
     "execution_count": 3,
     "metadata": {},
     "output_type": "execute_result"
    }
   ],
   "source": [
    "df.head()"
   ]
  },
  {
   "cell_type": "code",
   "execution_count": 4,
   "metadata": {},
   "outputs": [
    {
     "name": "stdout",
     "output_type": "stream",
     "text": [
      "Index(['Open', 'High', 'Low', 'Close', 'Adj Close', 'Volume'], dtype='object')\n"
     ]
    }
   ],
   "source": [
    "# Display the columns of the DataFrame\n",
    "print(df.columns)"
   ]
  },
  {
   "cell_type": "code",
   "execution_count": 5,
   "metadata": {
    "scrolled": true
   },
   "outputs": [
    {
     "data": {
      "image/png": "[encoded data removed]",
      "text/plain": [
       "<Figure size 432x288 with 1 Axes>"
      ]
     },
     "metadata": {
      "needs_background": "light"
     },
     "output_type": "display_data"
    }
   ],
   "source": [
    "# Plotting the closing price of the stock over time\n",
    "\n",
    "plt.plot(df.index, df['Close'], label='Close price')\n",
    "plt.title('Stock Price Prediction')\n",
    "plt.xlabel('Date')\n",
    "plt.ylabel('Stock Price')\n",
    "plt.legend()\n",
    "plt.show()\n"
   ]
  },
  {
   "cell_type": "code",
   "execution_count": 6,
   "metadata": {},
   "outputs": [
    {
     "data": {
      "text/plain": [
       "(2353, 6)"
      ]
     },
     "execution_count": 6,
     "metadata": {},
     "output_type": "execute_result"
    }
   ],
   "source": [
    "# Displaying the shape of the DataFrame\n",
    "df.shape"
   ]
  },
  {
   "cell_type": "code",
   "execution_count": 7,
   "metadata": {},
   "outputs": [
    {
     "data": {
      "text/plain": [
       "0"
      ]
     },
     "execution_count": 7,
     "metadata": {},
     "output_type": "execute_result"
    }
   ],
   "source": [
    "# Checking for duplicates in the DataFrame\n",
    "df.duplicated().sum()"
   ]
  },
  {
   "cell_type": "code",
   "execution_count": 8,
   "metadata": {},
   "outputs": [
    {
     "data": {
      "text/plain": [
       "False"
      ]
     },
     "execution_count": 8,
     "metadata": {},
     "output_type": "execute_result"
    }
   ],
   "source": [
    "# Checking for any null values in the DataFrame\n",
    "df.isnull().values.any()"
   ]
  },
  {
   "cell_type": "code",
   "execution_count": 9,
   "metadata": {},
   "outputs": [
    {
     "name": "stdout",
     "output_type": "stream",
     "text": [
      "<class 'pandas.core.frame.DataFrame'>\n",
      "DatetimeIndex: 2353 entries, 2015-01-02 to 2024-05-08\n",
      "Data columns (total 6 columns):\n",
      " #   Column     Non-Null Count  Dtype  \n",
      "---  ------     --------------  -----  \n",
      " 0   Open       2353 non-null   float64\n",
      " 1   High       2353 non-null   float64\n",
      " 2   Low        2353 non-null   float64\n",
      " 3   Close      2353 non-null   float64\n",
      " 4   Adj Close  2353 non-null   float64\n",
      " 5   Volume     2353 non-null   int64  \n",
      "dtypes: float64(5), int64(1)\n",
      "memory usage: 128.7 KB\n"
     ]
    }
   ],
   "source": [
    "# Displaying information about the DataFrame\n",
    "df.info()"
   ]
  },
  {
   "cell_type": "code",
   "execution_count": 10,
   "metadata": {},
   "outputs": [],
   "source": [
    "# Splitting the data into train and test sets\n",
    "df_train = df[:1883]\n",
    "df_test = df[1883:]\n"
   ]
  },
  {
   "cell_type": "code",
   "execution_count": 11,
   "metadata": {},
   "outputs": [],
   "source": [
    "# Saving the train and test data to CSV files\n",
    "df_train.to_csv('data_train.csv')\n",
    "df_test.to_csv('data_test.csv')"
   ]
  },
  {
   "cell_type": "code",
   "execution_count": 12,
   "metadata": {},
   "outputs": [
    {
     "data": {
      "text/html": [
       "<div>\n",
       "<style scoped>\n",
       "    .dataframe tbody tr th:only-of-type {\n",
       "        vertical-align: middle;\n",
       "    }\n",
       "\n",
       "    .dataframe tbody tr th {\n",
       "        vertical-align: top;\n",
       "    }\n",
       "\n",
       "    .dataframe thead th {\n",
       "        text-align: right;\n",
       "    }\n",
       "</style>\n",
       "<table border=\"1\" class=\"dataframe\">\n",
       "  <thead>\n",
       "    <tr style=\"text-align: right;\">\n",
       "      <th></th>\n",
       "      <th>Close</th>\n",
       "    </tr>\n",
       "    <tr>\n",
       "      <th>Date</th>\n",
       "      <th></th>\n",
       "    </tr>\n",
       "  </thead>\n",
       "  <tbody>\n",
       "    <tr>\n",
       "      <th>2015-01-02</th>\n",
       "      <td>27.332500</td>\n",
       "    </tr>\n",
       "    <tr>\n",
       "      <th>2015-01-05</th>\n",
       "      <td>26.562500</td>\n",
       "    </tr>\n",
       "    <tr>\n",
       "      <th>2015-01-06</th>\n",
       "      <td>26.565001</td>\n",
       "    </tr>\n",
       "    <tr>\n",
       "      <th>2015-01-07</th>\n",
       "      <td>26.937500</td>\n",
       "    </tr>\n",
       "    <tr>\n",
       "      <th>2015-01-08</th>\n",
       "      <td>27.972500</td>\n",
       "    </tr>\n",
       "  </tbody>\n",
       "</table>\n",
       "</div>"
      ],
      "text/plain": [
       "                Close\n",
       "Date                 \n",
       "2015-01-02  27.332500\n",
       "2015-01-05  26.562500\n",
       "2015-01-06  26.565001\n",
       "2015-01-07  26.937500\n",
       "2015-01-08  27.972500"
      ]
     },
     "execution_count": 12,
     "metadata": {},
     "output_type": "execute_result"
    }
   ],
   "source": [
    "# Selecting the 'Close' column for training\n",
    "df_data= df.iloc[: , 3:4]\n",
    "df_data.head()"
   ]
  },
  {
   "cell_type": "code",
   "execution_count": null,
   "metadata": {},
   "outputs": [],
   "source": []
  },
  {
   "cell_type": "code",
   "execution_count": 13,
   "metadata": {},
   "outputs": [],
   "source": [
    "# Creating numpy arrays for training and testing\n",
    "\n",
    "trainig_set= df_data.iloc[:1883,:].values\n",
    "test_set= df_data.iloc[1883:,:].values"
   ]
  },
  {
   "cell_type": "code",
   "execution_count": 14,
   "metadata": {},
   "outputs": [],
   "source": [
    "# Feature scaling using MinMaxScaler\n",
    "\n",
    "sc= MinMaxScaler(feature_range=(0,1))\n",
    "trainig_set_scaled= sc.fit_transform(trainig_set)\n"
   ]
  },
  {
   "cell_type": "code",
   "execution_count": 15,
   "metadata": {},
   "outputs": [],
   "source": [
    "# Creating a data structure with 60 timesteps and 1 output\n",
    "X_train=[] \n",
    "y_train= [] \n",
    "\n",
    "for i in range(60,1883):\n",
    "    X_train.append(trainig_set_scaled[i-60:i,0]) \n",
    "    y_train.append(trainig_set_scaled[i,0])\n",
    "    \n",
    "X_train, y_train= np.array(X_train), np.array(y_train)"
   ]
  },
  {
   "cell_type": "code",
   "execution_count": null,
   "metadata": {},
   "outputs": [],
   "source": []
  },
  {
   "cell_type": "code",
   "execution_count": 16,
   "metadata": {},
   "outputs": [
    {
     "data": {
      "text/plain": [
       "((1823, 60), (1823,))"
      ]
     },
     "execution_count": 16,
     "metadata": {},
     "output_type": "execute_result"
    }
   ],
   "source": [
    "\n",
    "X_train.shape, y_train.shape"
   ]
  },
  {
   "cell_type": "code",
   "execution_count": 17,
   "metadata": {},
   "outputs": [
    {
     "data": {
      "text/plain": [
       "(1823, 60, 1)"
      ]
     },
     "execution_count": 17,
     "metadata": {},
     "output_type": "execute_result"
    }
   ],
   "source": [
    "# Reshaping the training data\n",
    "X_train= np.reshape(X_train,(X_train.shape[0],X_train.shape[1],1))\n",
    "X_train.shape"
   ]
  },
  {
   "cell_type": "code",
   "execution_count": null,
   "metadata": {},
   "outputs": [],
   "source": []
  },
  {
   "cell_type": "code",
   "execution_count": 18,
   "metadata": {},
   "outputs": [],
   "source": [
    "#  Building the model\n",
    "\n",
    "# Initializing the LSTM model\n",
    "model= Sequential()\n",
    "\n",
    "# Adding LSTM layers with dropout regularization\n",
    "model.add(LSTM(units=128,return_sequences=True, input_shape=(X_train.shape[1],1)))\n",
    "model.add(Dropout(rate=0.25))\n",
    "\n",
    "model.add(LSTM(units=128,return_sequences=True))\n",
    "model.add(Dropout(rate=0.25))\n",
    "\n",
    "model.add(LSTM(units=128,return_sequences=True))\n",
    "model.add(Dropout(rate=0.25))\n",
    "\n",
    "model.add(LSTM(units=128,return_sequences=True))\n",
    "model.add(Dropout(rate=0.25))\n",
    "\n",
    "model.add(LSTM(units=128))\n",
    "model.add(Dropout(rate=0.25))\n",
    "\n",
    "# Adding the output layer\n",
    "model.add(Dense(units=1))\n",
    "\n",
    "# Compiling the Model\n",
    "model.compile(loss='mean_squared_error', optimizer='adam')"
   ]
  },
  {
   "cell_type": "code",
   "execution_count": 19,
   "metadata": {},
   "outputs": [
    {
     "name": "stdout",
     "output_type": "stream",
     "text": [
      "Model: \"sequential\"\n",
      "_________________________________________________________________\n",
      " Layer (type)                Output Shape              Param #   \n",
      "=================================================================\n",
      " lstm (LSTM)                 (None, 60, 128)           66560     \n",
      "                                                                 \n",
      " dropout (Dropout)           (None, 60, 128)           0         \n",
      "                                                                 \n",
      " lstm_1 (LSTM)               (None, 60, 128)           131584    \n",
      "                                                                 \n",
      " dropout_1 (Dropout)         (None, 60, 128)           0         \n",
      "                                                                 \n",
      " lstm_2 (LSTM)               (None, 60, 128)           131584    \n",
      "                                                                 \n",
      " dropout_2 (Dropout)         (None, 60, 128)           0         \n",
      "                                                                 \n",
      " lstm_3 (LSTM)               (None, 60, 128)           131584    \n",
      "                                                                 \n",
      " dropout_3 (Dropout)         (None, 60, 128)           0         \n",
      "                                                                 \n",
      " lstm_4 (LSTM)               (None, 128)               131584    \n",
      "                                                                 \n",
      " dropout_4 (Dropout)         (None, 128)               0         \n",
      "                                                                 \n",
      " dense (Dense)               (None, 1)                 129       \n",
      "                                                                 \n",
      "=================================================================\n",
      "Total params: 593,025\n",
      "Trainable params: 593,025\n",
      "Non-trainable params: 0\n",
      "_________________________________________________________________\n"
     ]
    }
   ],
   "source": [
    "model.summary()"
   ]
  },
  {
   "cell_type": "code",
   "execution_count": null,
   "metadata": {},
   "outputs": [],
   "source": []
  },
  {
   "cell_type": "code",
   "execution_count": 20,
   "metadata": {},
   "outputs": [
    {
     "name": "stdout",
     "output_type": "stream",
     "text": [
      "Epoch 1/100\n",
      "57/57 [==============================] - 15s 146ms/step - loss: 0.0154\n",
      "Epoch 2/100\n",
      "57/57 [==============================] - 9s 159ms/step - loss: 0.0026\n",
      "Epoch 3/100\n",
      "57/57 [==============================] - 9s 157ms/step - loss: 0.0033\n",
      "Epoch 4/100\n",
      "57/57 [==============================] - 9s 160ms/step - loss: 0.0023\n",
      "Epoch 5/100\n",
      "57/57 [==============================] - 9s 163ms/step - loss: 0.0024\n",
      "Epoch 6/100\n",
      "57/57 [==============================] - 9s 160ms/step - loss: 0.0023\n",
      "Epoch 7/100\n",
      "57/57 [==============================] - 9s 161ms/step - loss: 0.0019\n",
      "Epoch 8/100\n",
      "57/57 [==============================] - 9s 160ms/step - loss: 0.0024\n",
      "Epoch 9/100\n",
      "57/57 [==============================] - 10s 168ms/step - loss: 0.0024\n",
      "Epoch 10/100\n",
      "57/57 [==============================] - 9s 161ms/step - loss: 0.0019\n",
      "Epoch 11/100\n",
      "57/57 [==============================] - 9s 162ms/step - loss: 0.0023\n",
      "Epoch 12/100\n",
      "57/57 [==============================] - 9s 161ms/step - loss: 0.0019\n",
      "Epoch 13/100\n",
      "57/57 [==============================] - 9s 160ms/step - loss: 0.0019\n",
      "Epoch 14/100\n",
      "57/57 [==============================] - 9s 162ms/step - loss: 0.0019\n",
      "Epoch 15/100\n",
      "57/57 [==============================] - 9s 160ms/step - loss: 0.0020\n",
      "Epoch 16/100\n",
      "57/57 [==============================] - 9s 161ms/step - loss: 0.0015\n",
      "Epoch 17/100\n",
      "57/57 [==============================] - 9s 163ms/step - loss: 0.0014\n",
      "Epoch 18/100\n",
      "57/57 [==============================] - 9s 162ms/step - loss: 0.0014\n",
      "Epoch 19/100\n",
      "57/57 [==============================] - 9s 162ms/step - loss: 0.0011\n",
      "Epoch 20/100\n",
      "57/57 [==============================] - 10s 170ms/step - loss: 0.0014\n",
      "Epoch 21/100\n",
      "57/57 [==============================] - 9s 161ms/step - loss: 0.0015\n",
      "Epoch 22/100\n",
      "57/57 [==============================] - 9s 162ms/step - loss: 0.0014\n",
      "Epoch 23/100\n",
      "57/57 [==============================] - 9s 160ms/step - loss: 0.0015\n",
      "Epoch 24/100\n",
      "57/57 [==============================] - 9s 161ms/step - loss: 0.0014\n",
      "Epoch 25/100\n",
      "57/57 [==============================] - 9s 162ms/step - loss: 0.0015\n",
      "Epoch 26/100\n",
      "57/57 [==============================] - 9s 160ms/step - loss: 0.0012\n",
      "Epoch 27/100\n",
      "57/57 [==============================] - 9s 162ms/step - loss: 0.0017\n",
      "Epoch 28/100\n",
      "57/57 [==============================] - 9s 162ms/step - loss: 0.0011\n",
      "Epoch 29/100\n",
      "57/57 [==============================] - 9s 162ms/step - loss: 0.0013\n",
      "Epoch 30/100\n",
      "57/57 [==============================] - 9s 161ms/step - loss: 0.0015\n",
      "Epoch 31/100\n",
      "57/57 [==============================] - 9s 164ms/step - loss: 0.0014\n",
      "Epoch 32/100\n",
      "57/57 [==============================] - 9s 165ms/step - loss: 0.0012\n",
      "Epoch 33/100\n",
      "57/57 [==============================] - 9s 165ms/step - loss: 0.0012\n",
      "Epoch 34/100\n",
      "57/57 [==============================] - 9s 164ms/step - loss: 0.0013\n",
      "Epoch 35/100\n",
      "57/57 [==============================] - 9s 164ms/step - loss: 0.0014\n",
      "Epoch 36/100\n",
      "57/57 [==============================] - 9s 160ms/step - loss: 0.0012\n",
      "Epoch 37/100\n",
      "57/57 [==============================] - 9s 163ms/step - loss: 0.0011\n",
      "Epoch 38/100\n",
      "57/57 [==============================] - 9s 160ms/step - loss: 0.0011\n",
      "Epoch 39/100\n",
      "57/57 [==============================] - 9s 161ms/step - loss: 0.0012\n",
      "Epoch 40/100\n",
      "57/57 [==============================] - 9s 165ms/step - loss: 9.8656e-04\n",
      "Epoch 41/100\n",
      "57/57 [==============================] - 9s 162ms/step - loss: 0.0010\n",
      "Epoch 42/100\n",
      "57/57 [==============================] - 9s 164ms/step - loss: 9.7005e-04\n",
      "Epoch 43/100\n",
      "57/57 [==============================] - 9s 160ms/step - loss: 0.0012\n",
      "Epoch 44/100\n",
      "57/57 [==============================] - 9s 162ms/step - loss: 9.6147e-04\n",
      "Epoch 45/100\n",
      "57/57 [==============================] - 9s 164ms/step - loss: 0.0012\n",
      "Epoch 46/100\n",
      "57/57 [==============================] - 9s 161ms/step - loss: 0.0011\n",
      "Epoch 47/100\n",
      "57/57 [==============================] - 9s 164ms/step - loss: 9.1149e-04\n",
      "Epoch 48/100\n",
      "57/57 [==============================] - 9s 162ms/step - loss: 0.0016\n",
      "Epoch 49/100\n",
      "57/57 [==============================] - 9s 162ms/step - loss: 9.8409e-04\n",
      "Epoch 50/100\n",
      "57/57 [==============================] - 9s 161ms/step - loss: 9.9777e-04\n",
      "Epoch 51/100\n",
      "57/57 [==============================] - 9s 161ms/step - loss: 0.0011\n",
      "Epoch 52/100\n",
      "57/57 [==============================] - 9s 162ms/step - loss: 0.0010\n",
      "Epoch 53/100\n",
      "57/57 [==============================] - 9s 162ms/step - loss: 0.0011\n",
      "Epoch 54/100\n",
      "57/57 [==============================] - 9s 160ms/step - loss: 9.8349e-04\n",
      "Epoch 55/100\n",
      "57/57 [==============================] - 9s 163ms/step - loss: 0.0011\n",
      "Epoch 56/100\n",
      "57/57 [==============================] - 9s 165ms/step - loss: 0.0012\n",
      "Epoch 57/100\n",
      "57/57 [==============================] - 9s 162ms/step - loss: 0.0010\n",
      "Epoch 58/100\n",
      "57/57 [==============================] - 9s 162ms/step - loss: 0.0011\n",
      "Epoch 59/100\n",
      "57/57 [==============================] - 9s 163ms/step - loss: 0.0012\n",
      "Epoch 60/100\n",
      "57/57 [==============================] - 9s 160ms/step - loss: 0.0011\n",
      "Epoch 61/100\n",
      "57/57 [==============================] - 9s 161ms/step - loss: 0.0012\n",
      "Epoch 62/100\n",
      "57/57 [==============================] - 9s 162ms/step - loss: 9.1474e-04\n",
      "Epoch 63/100\n",
      "57/57 [==============================] - 9s 160ms/step - loss: 8.5336e-04\n",
      "Epoch 64/100\n",
      "57/57 [==============================] - 10s 170ms/step - loss: 8.3023e-04\n",
      "Epoch 65/100\n",
      "57/57 [==============================] - 9s 163ms/step - loss: 9.1680e-04\n",
      "Epoch 66/100\n",
      "57/57 [==============================] - 9s 161ms/step - loss: 9.5201e-04\n",
      "Epoch 67/100\n",
      "57/57 [==============================] - 9s 161ms/step - loss: 9.7869e-04\n",
      "Epoch 68/100\n",
      "57/57 [==============================] - 9s 160ms/step - loss: 0.0011\n",
      "Epoch 69/100\n",
      "57/57 [==============================] - 9s 161ms/step - loss: 9.7790e-04\n",
      "Epoch 70/100\n",
      "57/57 [==============================] - 9s 164ms/step - loss: 8.4834e-04\n",
      "Epoch 71/100\n",
      "57/57 [==============================] - 10s 168ms/step - loss: 8.6008e-04\n",
      "Epoch 72/100\n",
      "57/57 [==============================] - 9s 160ms/step - loss: 7.9521e-04\n",
      "Epoch 73/100\n",
      "57/57 [==============================] - 9s 162ms/step - loss: 8.5864e-04\n",
      "Epoch 74/100\n",
      "57/57 [==============================] - 9s 160ms/step - loss: 8.6208e-04\n",
      "Epoch 75/100\n",
      "57/57 [==============================] - 9s 160ms/step - loss: 0.0011\n",
      "Epoch 76/100\n",
      "57/57 [==============================] - 9s 161ms/step - loss: 0.0010\n",
      "Epoch 77/100\n",
      "57/57 [==============================] - 9s 162ms/step - loss: 0.0010\n",
      "Epoch 78/100\n",
      "57/57 [==============================] - 9s 160ms/step - loss: 8.4721e-04\n",
      "Epoch 79/100\n",
      "57/57 [==============================] - 9s 161ms/step - loss: 8.9399e-04\n",
      "Epoch 80/100\n",
      "57/57 [==============================] - 9s 161ms/step - loss: 9.5336e-04\n",
      "Epoch 81/100\n",
      "57/57 [==============================] - 9s 162ms/step - loss: 0.0010\n",
      "Epoch 82/100\n",
      "57/57 [==============================] - 9s 160ms/step - loss: 8.6296e-04\n",
      "Epoch 83/100\n",
      "57/57 [==============================] - 9s 162ms/step - loss: 8.1072e-04\n",
      "Epoch 84/100\n",
      "57/57 [==============================] - 10s 168ms/step - loss: 7.4793e-04\n",
      "Epoch 85/100\n",
      "57/57 [==============================] - 9s 161ms/step - loss: 8.3619e-04\n",
      "Epoch 86/100\n",
      "57/57 [==============================] - 9s 161ms/step - loss: 7.5014e-04\n",
      "Epoch 87/100\n",
      "57/57 [==============================] - 9s 162ms/step - loss: 8.0169e-04\n",
      "Epoch 88/100\n",
      "57/57 [==============================] - 9s 160ms/step - loss: 0.0011\n",
      "Epoch 89/100\n",
      "57/57 [==============================] - 9s 163ms/step - loss: 0.0013\n",
      "Epoch 90/100\n",
      "57/57 [==============================] - 9s 161ms/step - loss: 9.0480e-04\n",
      "Epoch 91/100\n",
      "57/57 [==============================] - 9s 163ms/step - loss: 7.5719e-04\n",
      "Epoch 92/100\n",
      "57/57 [==============================] - 9s 163ms/step - loss: 9.0193e-04\n",
      "Epoch 93/100\n",
      "57/57 [==============================] - 9s 160ms/step - loss: 7.9828e-04\n",
      "Epoch 94/100\n",
      "57/57 [==============================] - 9s 162ms/step - loss: 7.4858e-04\n",
      "Epoch 95/100\n",
      "57/57 [==============================] - 9s 162ms/step - loss: 7.7643e-04\n",
      "Epoch 96/100\n",
      "57/57 [==============================] - 9s 164ms/step - loss: 8.7165e-04\n",
      "Epoch 97/100\n",
      "57/57 [==============================] - 10s 168ms/step - loss: 0.0011\n",
      "Epoch 98/100\n"
     ]
    },
    {
     "name": "stdout",
     "output_type": "stream",
     "text": [
      "57/57 [==============================] - 9s 160ms/step - loss: 7.7072e-04\n",
      "Epoch 99/100\n",
      "57/57 [==============================] - 9s 161ms/step - loss: 7.4218e-04\n",
      "Epoch 100/100\n",
      "57/57 [==============================] - 9s 160ms/step - loss: 7.8063e-04\n"
     ]
    }
   ],
   "source": [
    "# Fitting the model \n",
    "history=model.fit(X_train,y_train,epochs=100,batch_size=32)"
   ]
  },
  {
   "cell_type": "code",
   "execution_count": null,
   "metadata": {},
   "outputs": [],
   "source": []
  },
  {
   "cell_type": "code",
   "execution_count": 21,
   "metadata": {},
   "outputs": [
    {
     "data": {
      "image/png": "[encoded data removed]",
      "text/plain": [
       "<Figure size 432x288 with 1 Axes>"
      ]
     },
     "metadata": {
      "needs_background": "light"
     },
     "output_type": "display_data"
    }
   ],
   "source": [
    "# Plot the training and validation loss\n",
    "plt.plot(history.history['loss'], label='Training loss')\n",
    "plt.legend()\n",
    "plt.show()"
   ]
  },
  {
   "cell_type": "code",
   "execution_count": null,
   "metadata": {},
   "outputs": [],
   "source": []
  },
  {
   "cell_type": "code",
   "execution_count": 22,
   "metadata": {},
   "outputs": [],
   "source": [
    "# Reading the data sets\n",
    "train_data= pd.read_csv('data_train.csv')\n",
    "test_data= pd.read_csv('data_test.csv')"
   ]
  },
  {
   "cell_type": "code",
   "execution_count": 23,
   "metadata": {},
   "outputs": [],
   "source": [
    "# Extracting the real stock prices from the test data\n",
    "actual_stock_price = test_data.iloc[:, 3:4].values"
   ]
  },
  {
   "cell_type": "code",
   "execution_count": 24,
   "metadata": {},
   "outputs": [
    {
     "data": {
      "text/plain": [
       "(470, 1)"
      ]
     },
     "execution_count": 24,
     "metadata": {},
     "output_type": "execute_result"
    }
   ],
   "source": [
    "actual_stock_price.shape"
   ]
  },
  {
   "cell_type": "code",
   "execution_count": 25,
   "metadata": {},
   "outputs": [
    {
     "data": {
      "text/plain": [
       "(470, 1)"
      ]
     },
     "execution_count": 25,
     "metadata": {},
     "output_type": "execute_result"
    }
   ],
   "source": [
    "test_set.shape"
   ]
  },
  {
   "cell_type": "code",
   "execution_count": 26,
   "metadata": {},
   "outputs": [],
   "source": [
    "# Concatenate the dataset and scaling\n",
    "data_total= pd.concat([train_data['Close'], test_data['Close']],  axis=0)\n",
    "inputs= data_total[len(data_total)-len(test_data)-60:].values \n",
    "inputs = inputs.reshape(-1,1) \n",
    "inputs = sc.transform(inputs)\n",
    "\n",
    "# Creating the input data for the test set\n",
    "X_test = []\n",
    "for i in range(60, 530):\n",
    "    X_test.append(inputs[i-60:i, 0])\n",
    "\n",
    "X_test = np.array(X_test)\n",
    "# 3D format\n",
    "X_test = np.reshape(X_test, (X_test.shape[0], X_test.shape[1], 1))"
   ]
  },
  {
   "cell_type": "code",
   "execution_count": 27,
   "metadata": {},
   "outputs": [
    {
     "data": {
      "text/plain": [
       "(530, 1)"
      ]
     },
     "execution_count": 27,
     "metadata": {},
     "output_type": "execute_result"
    }
   ],
   "source": [
    "inputs.shape"
   ]
  },
  {
   "cell_type": "code",
   "execution_count": 28,
   "metadata": {},
   "outputs": [
    {
     "data": {
      "text/plain": [
       "(2353,)"
      ]
     },
     "execution_count": 28,
     "metadata": {},
     "output_type": "execute_result"
    }
   ],
   "source": [
    "data_total.shape"
   ]
  },
  {
   "cell_type": "code",
   "execution_count": 29,
   "metadata": {},
   "outputs": [
    {
     "data": {
      "text/plain": [
       "(470, 60, 1)"
      ]
     },
     "execution_count": 29,
     "metadata": {},
     "output_type": "execute_result"
    }
   ],
   "source": [
    "X_test.shape"
   ]
  },
  {
   "cell_type": "code",
   "execution_count": null,
   "metadata": {},
   "outputs": [],
   "source": []
  },
  {
   "cell_type": "code",
   "execution_count": 30,
   "metadata": {},
   "outputs": [
    {
     "name": "stdout",
     "output_type": "stream",
     "text": [
      "15/15 [==============================] - 2s 52ms/step\n"
     ]
    }
   ],
   "source": [
    "# Predicting the stock prices for the test set\n",
    "predicted_stock_price = model.predict(X_test)"
   ]
  },
  {
   "cell_type": "code",
   "execution_count": 31,
   "metadata": {},
   "outputs": [],
   "source": [
    "# # Inverse scaling to get actual stock prices\n",
    "predicted_stock_price = sc.inverse_transform(predicted_stock_price)"
   ]
  },
  {
   "cell_type": "code",
   "execution_count": null,
   "metadata": {},
   "outputs": [],
   "source": []
  },
  {
   "cell_type": "code",
   "execution_count": 32,
   "metadata": {},
   "outputs": [
    {
     "data": {
      "image/png": "[encoded data removed]",
      "text/plain": [
       "<Figure size 1080x576 with 1 Axes>"
      ]
     },
     "metadata": {
      "needs_background": "light"
     },
     "output_type": "display_data"
    }
   ],
   "source": [
    "# Plotting the results\n",
    "# Plotting the actual and predicted stock prices\n",
    "\n",
    "# Convert the index of the test_data DataFrame to datetime format\n",
    "test_data.index = pd.to_datetime(test_data['Date'])\n",
    "\n",
    "# Plotting the results with dates on the x-axis\n",
    "plt.figure(figsize=(15,8))\n",
    "plt.plot(test_data.index, actual_stock_price, color='Red', label='Actual Apple Stock Price')\n",
    "plt.plot(test_data.index, predicted_stock_price, color='Blue', label='Predicted Apple Stock Price')\n",
    "plt.title('Apple Stock Price Prediction', fontsize=20)\n",
    "plt.xlabel('Date', fontsize=15)\n",
    "plt.ylabel('Apple Stock Price', fontsize=15)\n",
    "plt.legend()\n",
    "plt.show()"
   ]
  },
  {
   "cell_type": "code",
   "execution_count": null,
   "metadata": {},
   "outputs": [],
   "source": []
  },
  {
   "cell_type": "code",
   "execution_count": 33,
   "metadata": {},
   "outputs": [],
   "source": [
    "# Save the model\n",
    "model.save('model-LSTM.h5')"
   ]
  },
  {
   "cell_type": "code",
   "execution_count": null,
   "metadata": {},
   "outputs": [],
   "source": []
  },
  {
   "cell_type": "code",
   "execution_count": null,
   "metadata": {},
   "outputs": [],
   "source": []
  }
 ],
 "metadata": {
  "kernelspec": {
   "display_name": "Python 3",
   "language": "python",
   "name": "python3"
  },
  "language_info": {
   "codemirror_mode": {
    "name": "ipython",
    "version": 3
   },
   "file_extension": ".py",
   "mimetype": "text/x-python",
   "name": "python",
   "nbconvert_exporter": "python",
   "pygments_lexer": "ipython3",
   "version": "3.8.3"
  }
 },
 "nbformat": 4,
 "nbformat_minor": 4
}
