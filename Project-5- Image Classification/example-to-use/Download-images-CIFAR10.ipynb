{
 "cells": [
  {
   "cell_type": "markdown",
   "metadata": {},
   "source": [
    "### By running this code, you'll download and save an image from the CIFAR-10 dataset to your local filesystem. You can change the index_to_save variable to save different images."
   ]
  },
  {
   "cell_type": "code",
   "execution_count": null,
   "metadata": {},
   "outputs": [],
   "source": []
  },
  {
   "cell_type": "code",
   "execution_count": 1,
   "metadata": {},
   "outputs": [],
   "source": [
    "# Import necessary libraries\n",
    "import numpy as np\n",
    "import tensorflow as tf\n",
    "from tensorflow.keras.datasets import cifar10\n",
    "from PIL import Image"
   ]
  },
  {
   "cell_type": "code",
   "execution_count": 2,
   "metadata": {},
   "outputs": [],
   "source": [
    "# Load the CIFAR-10 dataset\n",
    "(x_train, y_train), (x_test, y_test) = cifar10.load_data()"
   ]
  },
  {
   "cell_type": "code",
   "execution_count": 3,
   "metadata": {},
   "outputs": [],
   "source": [
    "# Define class names for CIFAR-10\n",
    "class_names = ['airplane', 'automobile', 'bird', 'cat', 'deer', 'dog', 'frog', 'horse', 'ship', 'truck']"
   ]
  },
  {
   "cell_type": "code",
   "execution_count": 4,
   "metadata": {},
   "outputs": [],
   "source": [
    "# Function to save an image\n",
    "def save_cifar10_image(images, labels, index, save_path):\n",
    "    \"\"\"\n",
    "    Save an image from CIFAR-10 dataset to the specified path.\n",
    "    \n",
    "    Parameters:\n",
    "        images (numpy.ndarray): The image data.\n",
    "        labels (numpy.ndarray): The labels corresponding to the images.\n",
    "        index (int): The index of the image to save.\n",
    "        save_path (str): The path where the image will be saved.\n",
    "    \"\"\"\n",
    "    # Get the image and label\n",
    "    image = images[index]\n",
    "    label = labels[index][0]\n",
    "    \n",
    "    # Convert the image from array to PIL format\n",
    "    image_pil = Image.fromarray(image)\n",
    "    \n",
    "    # Save the image\n",
    "    image_pil.save(save_path)\n",
    "    print(f\"Saved image {index} (class: {class_names[label]}) to {save_path}\")"
   ]
  },
  {
   "cell_type": "code",
   "execution_count": 5,
   "metadata": {},
   "outputs": [
    {
     "name": "stdout",
     "output_type": "stream",
     "text": [
      "Saved image 1 (class: truck) to cifar10_image_1.png\n"
     ]
    }
   ],
   "source": [
    "# Example usage\n",
    "index_to_save = 1  # Change this to save a different image\n",
    "save_path = f\"cifar10_image_{index_to_save}.png\"\n",
    "save_cifar10_image(x_train, y_train, index_to_save, save_path)"
   ]
  },
  {
   "cell_type": "code",
   "execution_count": null,
   "metadata": {},
   "outputs": [],
   "source": []
  },
  {
   "cell_type": "code",
   "execution_count": null,
   "metadata": {},
   "outputs": [],
   "source": []
  }
 ],
 "metadata": {
  "kernelspec": {
   "display_name": "Python 3",
   "language": "python",
   "name": "python3"
  },
  "language_info": {
   "codemirror_mode": {
    "name": "ipython",
    "version": 3
   },
   "file_extension": ".py",
   "mimetype": "text/x-python",
   "name": "python",
   "nbconvert_exporter": "python",
   "pygments_lexer": "ipython3",
   "version": "3.8.3"
  }
 },
 "nbformat": 4,
 "nbformat_minor": 4
}
